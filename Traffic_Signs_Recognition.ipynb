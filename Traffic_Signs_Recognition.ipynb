{
 "cells": [
  {
   "cell_type": "markdown",
   "metadata": {},
   "source": [
    "# Self-Driving Car Engineer Nanodegree\n",
    "\n",
    "## Deep Learning\n",
    "\n",
    "## Project: Build a Traffic Sign Recognition Classifier\n",
    "\n",
    "In this notebook, a template is provided for you to implement your functionality in stages which is required to successfully complete this project. If additional code is required that cannot be included in the notebook, be sure that the Python code is successfully imported and included in your submission, if necessary. Sections that begin with **'Implementation'** in the header indicate where you should begin your implementation for your project. Note that some sections of implementation are optional, and will be marked with **'Optional'** in the header.\n",
    "\n",
    "In addition to implementing code, there will be questions that you must answer which relate to the project and your implementation. Each section where you will answer a question is preceded by a **'Question'** header. Carefully read each question and provide thorough answers in the following text boxes that begin with **'Answer:'**. Your project submission will be evaluated based on your answers to each of the questions and the implementation you provide.\n",
    "\n",
    ">**Note:** Code and Markdown cells can be executed using the **Shift + Enter** keyboard shortcut. In addition, Markdown cells can be edited by typically double-clicking the cell to enter edit mode."
   ]
  },
  {
   "cell_type": "markdown",
   "metadata": {},
   "source": [
    "---\n",
    "\n",
    "## Step 1: Dataset Exploration\n",
    "\n",
    "Visualize the German Traffic Signs Dataset. This is open ended, some suggestions include: plotting traffic signs images, plotting the count of each sign, etc. Be creative!\n",
    "\n",
    "\n",
    "The pickled data is a dictionary with 4 key/value pairs:\n",
    "\n",
    "- features -> the images pixel values, (width, height, channels)\n",
    "- labels -> the label of the traffic sign\n",
    "- sizes -> the original width and height of the image, (width, height)\n",
    "- coords -> coordinates of a bounding box around the sign in the image, (x1, y1, x2, y2). Based the original image (not the resized version)."
   ]
  },
  {
   "cell_type": "code",
   "execution_count": 1,
   "metadata": {
    "collapsed": false
   },
   "outputs": [],
   "source": [
    "%matplotlib inline\n",
    "import matplotlib.pyplot as plt\n",
    "import tensorflow as tf\n",
    "import numpy as np\n",
    "from sklearn.metrics import confusion_matrix\n",
    "import time\n",
    "from datetime import timedelta\n",
    "import math\n",
    "import os"
   ]
  },
  {
   "cell_type": "code",
   "execution_count": 2,
   "metadata": {
    "collapsed": false
   },
   "outputs": [],
   "source": [
    "# Load pickled data\n",
    "import pickle\n",
    "import os\n",
    "import shutil\n",
    "\n",
    "# TODO: fill this in based on where you saved the training and testing data - DONE\n",
    "training_file = \"../train.p\"\n",
    "testing_file = \"../test.p\"\n",
    "\n",
    "with open(training_file, mode='rb') as f:\n",
    "    train = pickle.load(f)\n",
    "with open(testing_file, mode='rb') as f:\n",
    "    test = pickle.load(f)\n",
    "    \n",
    "X_train, y_train = train['features'], train['labels']\n",
    "X_test, y_test = test['features'], test['labels']\n",
    "\n",
    "cache = \"../cache/\"\n",
    "if not os.path.exists(cache):\n",
    "    os.mkdir(cache)"
   ]
  },
  {
   "cell_type": "markdown",
   "metadata": {},
   "source": [
    "## Data Dimensions\n",
    "The data dimensions are used in several places in the model below. They are defined once so we can use these variables instead of numbers throughout the code."
   ]
  },
  {
   "cell_type": "code",
   "execution_count": 3,
   "metadata": {
    "collapsed": false
   },
   "outputs": [
    {
     "name": "stdout",
     "output_type": "stream",
     "text": [
      "Number of training examples = 39209\n",
      "Number of testing examples = 12630\n",
      "\n",
      "Image data shape = (32, 32, 3)\n",
      "Image size (len and width) = 32\n",
      "Image size (flattened) = 1024\n",
      "\n",
      "Number of classes = 43\n",
      "Number of test classes = 43\n"
     ]
    }
   ],
   "source": [
    "n_train = X_train.shape[0]\n",
    "n_test = X_test.shape[0]\n",
    "\n",
    "image_size = X_train.shape[1]\n",
    "\n",
    "# Tuple with height and width of images used to reshape arrays.\n",
    "image_shape = X_train.shape[1:]\n",
    "\n",
    "n_image_channels = X_train.shape[3]\n",
    "n_classes = np.amax(y_train) + 1 #Add one since indeces are zero-based\n",
    "n_test_classes = np.amax(y_test) + 1\n",
    "\n",
    "# Images are stored in one-dimensional arrays of this length.\n",
    "img_size_flat = image_shape[0] * image_shape[1]\n",
    "\n",
    "print(\"Number of training examples =\", n_train)\n",
    "print(\"Number of testing examples =\", n_test)\n",
    "print()\n",
    "print(\"Image data shape =\", image_shape)\n",
    "print(\"Image size (len and width) =\", image_size)\n",
    "print(\"Image size (flattened) =\", img_size_flat)\n",
    "print()\n",
    "print(\"Number of classes =\", n_classes)\n",
    "print(\"Number of test classes =\", n_test_classes)"
   ]
  },
  {
   "cell_type": "code",
   "execution_count": 4,
   "metadata": {
    "collapsed": false
   },
   "outputs": [],
   "source": [
    "# #One-Hot Encoded the Labels\n",
    "one_hot = np.eye(n_classes)[y_train]\n",
    "one_hot_test = np.eye(n_test_classes)[y_test]\n",
    "# #print(one_hot)"
   ]
  },
  {
   "cell_type": "markdown",
   "metadata": {},
   "source": [
    "## Helper-function for plotting images\n",
    "Function used to plot 9 images in a 3x3 grid, and writing the true and predicted classes below each image."
   ]
  },
  {
   "cell_type": "code",
   "execution_count": 5,
   "metadata": {
    "collapsed": true
   },
   "outputs": [],
   "source": [
    "def plot_images(images, cls_true, cls_pred=None):\n",
    "    assert len(images) == len(cls_true) == 9\n",
    "    \n",
    "    # Create figure with 3x3 sub-plots.\n",
    "    fig, axes = plt.subplots(3, 3)\n",
    "    fig.subplots_adjust(hspace=0.3, wspace=0.3)\n",
    "\n",
    "    for i, ax in enumerate(axes.flat):\n",
    "        # Plot image.\n",
    "        ax.imshow(images[i].reshape(image_shape))\n",
    "\n",
    "        # Show true and predicted classes.\n",
    "        if cls_pred is None:\n",
    "            xlabel = \"True: {0}\".format(cls_true[i])\n",
    "        else:\n",
    "            xlabel = \"True: {0}, Pred: {1}\".format(cls_true[i], cls_pred[i])\n",
    "\n",
    "        # Show the classes as the label on the x-axis.\n",
    "        ax.set_xlabel(xlabel)\n",
    "        \n",
    "        # Remove ticks from the plot.\n",
    "        ax.set_xticks([])\n",
    "        ax.set_yticks([])\n",
    "    \n",
    "    # Ensure the plot is shown correctly with multiple plots\n",
    "    # in a single Notebook cell.\n",
    "    plt.show()"
   ]
  },
  {
   "cell_type": "code",
   "execution_count": 6,
   "metadata": {
    "collapsed": false
   },
   "outputs": [],
   "source": [
    "def shuffle_data(batch, labels):\n",
    "    perm = np.arange(len(batch))\n",
    "    np.random.shuffle(perm)\n",
    "    return batch[perm], labels[perm]"
   ]
  },
  {
   "cell_type": "markdown",
   "metadata": {},
   "source": [
    "## Plot a few images to see if data is correct"
   ]
  },
  {
   "cell_type": "code",
   "execution_count": 7,
   "metadata": {
    "collapsed": false
   },
   "outputs": [
    {
     "data": {
      "image/png": "[encoded data removed]",
      "text/plain": [
       "<matplotlib.figure.Figure at 0x7fa5117df208>"
      ]
     },
     "metadata": {},
     "output_type": "display_data"
    }
   ],
   "source": [
    "X_train, y_train = shuffle_data(X_train, y_train)\n",
    "\n",
    "# Get the first images from the test-set.\n",
    "imgs_for_plot = X_train[-9:]\n",
    "\n",
    "# Get the true classes for those images.\n",
    "cls_true_train = y_train[-9:]\n",
    "\n",
    "# Plot the images and labels using our helper-function above.\n",
    "plot_images(images=imgs_for_plot, cls_true=cls_true_train)"
   ]
  },
  {
   "cell_type": "markdown",
   "metadata": {},
   "source": [
    "----\n",
    "\n",
    "## Step 2: Design and Test a Model Architecture\n",
    "\n",
    "Design and implement a deep learning model that learns to recognize traffic signs. Train and test your model on the [German Traffic Sign Dataset](http://benchmark.ini.rub.de/?section=gtsrb&subsection=dataset).\n",
    "\n",
    "There are various aspects to consider when thinking about this problem:\n",
    "\n",
    "- Your model can be derived from a deep feedforward net or a deep convolutional network.\n",
    "- Play around preprocessing techniques (normalization, rgb to grayscale, etc)\n",
    "- Number of examples per label (some have more than others).\n",
    "- Generate fake data.\n",
    "\n",
    "Here is an example of a [published baseline model on this problem](http://yann.lecun.com/exdb/publis/pdf/sermanet-ijcnn-11.pdf). It's not required to be familiar with the approach used in the paper but, it's good practice to try to read papers like these."
   ]
  },
  {
   "cell_type": "markdown",
   "metadata": {},
   "source": [
    "### <font color='red'> Question 1</font> ###\n",
    "\n",
    "_Describe the techniques used to preprocess the data._"
   ]
  },
  {
   "cell_type": "markdown",
   "metadata": {},
   "source": [
    "** <font color='blue'> Answer: </font> **"
   ]
  },
  {
   "cell_type": "code",
   "execution_count": 8,
   "metadata": {
    "collapsed": true
   },
   "outputs": [],
   "source": [
    "### Generate data additional (if you want to!)\n",
    "### and split the data into training/validation/testing sets here.\n",
    "### Feel free to use as many code cells as needed."
   ]
  },
  {
   "cell_type": "markdown",
   "metadata": {},
   "source": [
    "### <font color='red'> Question 2</font> ###\n",
    "\n",
    "_Describe how you set up the training, validation and testing data for your model. If you generated additional data, why?_"
   ]
  },
  {
   "cell_type": "markdown",
   "metadata": {},
   "source": [
    "** <font color='blue'> Answer:</font> **"
   ]
  },
  {
   "cell_type": "markdown",
   "metadata": {},
   "source": [
    "# Architecture"
   ]
  },
  {
   "cell_type": "markdown",
   "metadata": {},
   "source": [
    "### Helper Class: <font color='green'> Batch Normalization</font>"
   ]
  },
  {
   "cell_type": "code",
   "execution_count": 9,
   "metadata": {
    "collapsed": false
   },
   "outputs": [],
   "source": [
    "class batch_norm(object):\n",
    "    def __init__(self, batch_size, epsilon=1e-5, momentum = 0.1, name=\"batch_norm\"):\n",
    "        with tf.variable_scope(name) as scope:\n",
    "            try:\n",
    "                self.epsilon = epsilon\n",
    "                self.momentum = momentum\n",
    "                self.batch_size = batch_size\n",
    "\n",
    "                self.ema = tf.train.ExponentialMovingAverage(decay=self.momentum)\n",
    "                self.name=name\n",
    "            except ValueError:\n",
    "                scope.reuse_variables()\n",
    "                self.epsilon = tf.get_variable('epsilon')\n",
    "                self.momentum = tf.get_variable('momentum')\n",
    "                self.batch_size = tf.get_variable('batch_size')\n",
    "                self.ema = tf.train.ExponentialMovingAverage(decay=self.momentum)\n",
    "                self.name = tf.get_variable('name')\n",
    "            \n",
    "            \n",
    "\n",
    "    def __call__(self, x, train=True):\n",
    "        shape = x.get_shape().as_list()\n",
    "\n",
    "        with tf.variable_scope(self.name) as scope:\n",
    "            try:\n",
    "                self.gamma = tf.get_variable(\"gamma\", [shape[-1]],\n",
    "                            initializer=tf.random_normal_initializer(1., 0.02))\n",
    "                self.beta = tf.get_variable(\"beta\", [shape[-1]],\n",
    "                            initializer=tf.constant_initializer(0.))\n",
    "                self.mean, self.variance = tf.nn.moments(x, [0, 1, 2])\n",
    "            except ValueError:\n",
    "                scope.reuse_variables()\n",
    "                self.gamma = tf.get_variable(\"gamma\", [shape[-1]],\n",
    "                            initializer=tf.random_normal_initializer(1., 0.02))\n",
    "                self.beta = tf.get_variable(\"beta\", [shape[-1]],\n",
    "                            initializer=tf.constant_initializer(0.))\n",
    "                self.mean, self.variance = tf.nn.moments(x, [0, 1, 2])\n",
    "\n",
    "            return tf.nn.batch_norm_with_global_normalization(\n",
    "                   x, self.mean, self.variance, self.beta, self.gamma, self.epsilon,\n",
    "                   scale_after_normalization=True)"
   ]
  },
  {
   "cell_type": "code",
   "execution_count": 10,
   "metadata": {
    "collapsed": true
   },
   "outputs": [],
   "source": [
    "def lrelu(x, leak=0.2, name=\"lrelu\"):\n",
    "    with tf.variable_scope(name):\n",
    "        f1 = 0.5 * (1 + leak)\n",
    "        f2 = 0.5 * (1 - leak)\n",
    "        return f1 * x + f2 * abs(x)\n",
    "        \n",
    "def linear(input_, output_size, scope=None, stddev=0.02, bias_start=0.0, with_w=False):\n",
    "    shape = input_.get_shape().as_list()\n",
    "\n",
    "    with tf.variable_scope(scope or \"Linear\")as scope:\n",
    "            try:\n",
    "                matrix = tf.get_variable(\"Matrix\", [shape[1], output_size], tf.float32,\n",
    "                         tf.random_normal_initializer(stddev=stddev))\n",
    "                bias = tf.get_variable(\"bias\", [output_size], initializer=tf.constant_initializer(bias_start))\n",
    "            except ValueError:  \n",
    "                scope.reuse_variables()\n",
    "                matrix = tf.get_variable(\"Matrix\", [shape[1], output_size], tf.float32,\n",
    "                         tf.random_normal_initializer(stddev=stddev))\n",
    "                bias = tf.get_variable(\"bias\", [output_size], initializer=tf.constant_initializer(bias_start))\n",
    "        \n",
    "    if with_w:\n",
    "        return tf.matmul(input_, matrix) + bias, matrix, bias\n",
    "    else:\n",
    "        return tf.matmul(input_, matrix) + bias\n",
    "\n",
    "def conv2d(input_, output_dim,\n",
    "           filter_size=5, strides=2, stddev=0.02,\n",
    "           name=\"conv2d\"):\n",
    "    with tf.variable_scope(name) as scope:\n",
    "        try:\n",
    "            w = tf.get_variable('w', [filter_size, filter_size, input_.get_shape()[-1], output_dim],\n",
    "                        initializer=tf.truncated_normal_initializer(stddev=stddev))\n",
    "        except ValueError:\n",
    "            scope.reuse_variables()\n",
    "            w = tf.get_variable('w', [filter_size, filter_size, input_.get_shape()[-1], output_dim],\n",
    "                        initializer=tf.truncated_normal_initializer(stddev=stddev))\n",
    "                \n",
    "        conv = tf.nn.conv2d(input_, w, strides=[1, strides, strides, 1], padding='SAME')\n",
    "        biases = tf.get_variable('biases', [output_dim], initializer=tf.constant_initializer(0.0))\n",
    "        conv = tf.reshape(tf.nn.bias_add(conv, biases), conv.get_shape())\n",
    "        return conv"
   ]
  },
  {
   "cell_type": "markdown",
   "metadata": {},
   "source": [
    "### Hyper-Parameters"
   ]
  },
  {
   "cell_type": "markdown",
   "metadata": {},
   "source": [
    "### Model"
   ]
  },
  {
   "cell_type": "code",
   "execution_count": 11,
   "metadata": {
    "collapsed": false
   },
   "outputs": [],
   "source": [
    "class Model():\n",
    "    def __init__(self, batch_size=100, x_dim = 32, y_dim = 32, learning_rate= 0.0001, conv_depth = 32, num_classes=43, reuse_flag=False, session=None):\n",
    "        self.batch_size = batch_size\n",
    "        self.reuse_flag = reuse_flag\n",
    "        self.learning_rate = learning_rate\n",
    "        self.num_classes = num_classes\n",
    "        self.conv_depth = conv_depth\n",
    "\n",
    "        # tf Graph batch of image (batch_size, height, width, depth)\n",
    "        self.batch = tf.placeholder(tf.float32, [batch_size, x_dim, y_dim, n_image_channels], name=\"batch\")\n",
    "        self.batch_labels = tf.placeholder(tf.float32, [batch_size, self.num_classes], name=\"batch_labels\") # dataset labels for the batch\n",
    "\n",
    "        # batch normalization : deals with poor initialization helps gradient flow\n",
    "        self.d_bn1 = batch_norm(batch_size, name='d_bn1')\n",
    "        self.d_bn2 = batch_norm(batch_size, name='d_bn2')\n",
    "\n",
    "        self.predict = self.discriminator(self.batch)\n",
    "        self.cost = tf.reduce_mean(-tf.reduce_sum(self.batch_labels * tf.log(self.predict), reduction_indices=[1]))\n",
    "        correct_prediction = tf.equal(tf.argmax(self.predict,1), tf.argmax(self.batch_labels,1))\n",
    "        self.accuracy = tf.reduce_mean(tf.cast(correct_prediction, tf.float32))\n",
    "\n",
    "        self.train_op = tf.train.AdamOptimizer(self.learning_rate).minimize(self.cost)\n",
    "\n",
    "        # Initializing the tensor flow variables\n",
    "        init = tf.initialize_all_variables()\n",
    "\n",
    "        # Launch the session\n",
    "        if session:\n",
    "            self.sess = session\n",
    "        else:\n",
    "            self.sess = tf.InteractiveSession()\n",
    "        self.sess.run(init)\n",
    "        self.saver = tf.train.Saver(tf.all_variables())\n",
    "        \n",
    "    def discriminator(self, image):\n",
    "        if self.reuse_flag:\n",
    "            tf.get_variable_scope().reuse_variables()\n",
    "            \n",
    "        flattened_image = tf.reshape(image, [-1, image_size, image_size, 1])    \n",
    "        h0 = lrelu(conv2d(flattened_image, self.conv_depth, name='d_h0_conv'))\n",
    "        h1 = lrelu(self.d_bn1(conv2d(h0, self.conv_depth*2, name='d_h1_conv')))\n",
    "        h2 = lrelu(self.d_bn2(conv2d(h1, self.conv_depth*4, name='d_h2_conv')))\n",
    "        # Apply Dropout\n",
    "        h3 = tf.nn.dropout(h2, .5)\n",
    "        h4 = linear(tf.reshape(h3, [self.batch_size, -1]), self.num_classes, 'd_h2_linear')\n",
    "\n",
    "        return tf.nn.softmax(h4)\n",
    "    \n",
    "    def to_one_hot(self, labels):\n",
    "        # convert labels, a numpy list of labels (of size batch_size) to the one hot equivalent\n",
    "        return np.eye(self.num_classes)[labels]\n",
    "    \n",
    "    def partial_train(self, batch, labels):\n",
    "        _, cost, accuracy = self.sess.run((self.train_op, self.cost, self.accuracy),\n",
    "                              feed_dict={self.batch: batch, self.batch_labels: self.to_one_hot(labels)})\n",
    "        return cost, accuracy\n",
    "    \n",
    "\n",
    "    def print_test_accuracy(self, show_example_errors=True,\n",
    "                            show_confusion_matrix=True):\n",
    "        test_batch_size = 100\n",
    "        # Number of images in the test-set.\n",
    "        num_test = len(X_test)\n",
    "\n",
    "        # Allocate an array for the predicted classes which\n",
    "        # will be calculated in batches and filled into this array.\n",
    "        cls_pred = np.zeros(shape=num_test, dtype=np.int)\n",
    "\n",
    "        # Now calculate the predicted classes for the batches.\n",
    "        # We will just iterate through all the batches.\n",
    "\n",
    "        num_iterations = int(num_test/test_batch_size)\n",
    "\n",
    "        for i in range(num_iterations):\n",
    "            # Get the correct batch of testing examples.\n",
    "            batch_start = (i)*test_batch_size\n",
    "            batch_end = min((i+1)*test_batch_size,  len(X_test))\n",
    "\n",
    "            # images holds a batch of images and\n",
    "            # labels holds the true labels for those images.\n",
    "            images, labels = X_test[batch_start:batch_end], one_hot_test[batch_start:batch_end]\n",
    "\n",
    "            # Create a feed-dict with these images and labels.\n",
    "            feed_dict={self.batch: images, self.batch_labels: labels}\n",
    "\n",
    "            # Calculate the predicted class using TensorFlow.\n",
    "            cls_pred[batch_start:batch_end] = self.sess.run(tf.argmax(self.predict, dimension=1), feed_dict=feed_dict)\n",
    "\n",
    "        # Convenience variable for the true class-numbers of the test-set.\n",
    "        cls_true_test = y_test\n",
    "\n",
    "        # Create a boolean array whether each image is correctly classified.\n",
    "        correct = (y_test == cls_pred)\n",
    "\n",
    "        # Calculate the number of correctly classified images.\n",
    "        correct_sum = correct.sum()\n",
    "\n",
    "        # Classification accuracy is the number of correctly classified\n",
    "        acc = float(correct_sum) / num_test\n",
    "\n",
    "        # Print the accuracy.\n",
    "        msg = \"Accuracy on Test-Set: {0:.1%} ({1} / {2})\"\n",
    "        print(msg.format(acc, correct_sum, num_test))\n",
    "\n",
    "        # Plot some examples of mis-classifications, if desired.\n",
    "        if show_example_errors:\n",
    "            print(\"Example errors:\")\n",
    "            plot_example_errors(cls_pred=cls_pred, correct=correct)\n",
    "\n",
    "        # Plot the confusion matrix, if desired.\n",
    "        if show_confusion_matrix:\n",
    "            print(\"Confusion Matrix:\")\n",
    "            plot_confusion_matrix(cls_pred=cls_pred)\n",
    "    \n",
    "    def save_model(self, checkpoint_path, epoch):\n",
    "        \"\"\" saves the model to a file \"\"\"\n",
    "        self.saver.save(self.sess, checkpoint_path, global_step = epoch)\n",
    "\n",
    "    def load_model(self, checkpoint_path):\n",
    "        ckpt = tf.train.get_checkpoint_state(checkpoint_path)\n",
    "        print(\"loading model: \",ckpt.model_checkpoint_path)\n",
    "        self.saver.restore(self.sess, ckpt.model_checkpoint_path)"
   ]
  },
  {
   "cell_type": "markdown",
   "metadata": {},
   "source": [
    "** <font color='blue'> Answer:</font>**"
   ]
  },
  {
   "cell_type": "markdown",
   "metadata": {},
   "source": [
    "# Session - Train/Optimize for Performance\n",
    "Run the Tensorflow Graph to train model"
   ]
  },
  {
   "cell_type": "markdown",
   "metadata": {},
   "source": [
    "### Helper-function: <font color='green'> Plot Example Errors</font> ###\n",
    "Function for plotting examples of images from the test-set that have been mis-classified."
   ]
  },
  {
   "cell_type": "code",
   "execution_count": 12,
   "metadata": {
    "collapsed": true
   },
   "outputs": [],
   "source": [
    "def plot_example_errors(cls_pred, correct):\n",
    "    # This function is called from print_test_accuracy() below.\n",
    "\n",
    "    # cls_pred is an array of the predicted class-number for all images in the test-set.\n",
    "    # correct is a boolean array whether the predicted class is equal to the true class for each image in the test-set.\n",
    "\n",
    "    # Negate the boolean array.\n",
    "    incorrect = (correct == False)\n",
    "    \n",
    "    # Get the images from the test-set that have been incorrectly classified.\n",
    "    images = X_test[incorrect]\n",
    "    \n",
    "    # Get the predicted classes for those images.\n",
    "    cls_pred = cls_pred[incorrect]\n",
    "\n",
    "    # Get the true classes for those images.\n",
    "    cls_true_test = y_test[incorrect]\n",
    "    \n",
    "    # Plot the first 9 images.\n",
    "    plot_images(images=images[0:9],\n",
    "                cls_true=cls_true_test[0:9],\n",
    "                cls_pred=cls_pred[0:9])"
   ]
  },
  {
   "cell_type": "markdown",
   "metadata": {},
   "source": [
    "### Helper-function: <font color='green'> Plot Confusion Matrix</font> ###"
   ]
  },
  {
   "cell_type": "code",
   "execution_count": 13,
   "metadata": {
    "collapsed": true
   },
   "outputs": [],
   "source": [
    "def plot_confusion_matrix(cls_pred):\n",
    "    # This is called from print_test_accuracy() below.\n",
    "\n",
    "    # cls_pred is an array of the predicted class-number for\n",
    "    # all images in the test-set.\n",
    "\n",
    "    # Get the true classifications for the test-set.\n",
    "    cls_true_test = y_test\n",
    "    \n",
    "    # Get the confusion matrix using sklearn.\n",
    "    cm = confusion_matrix(y_true=cls_true_test,\n",
    "                          y_pred=cls_pred)\n",
    "\n",
    "    # Print the confusion matrix as text.\n",
    "    print(cm[:3])\n",
    "\n",
    "    # Plot the confusion matrix as an image.\n",
    "    plt.matshow(cm)\n",
    "\n",
    "    # Make various adjustments to the plot.\n",
    "    plt.colorbar()\n",
    "    tick_marks = np.arange(n_classes)\n",
    "    plt.xticks(tick_marks, range(n_classes))\n",
    "    plt.yticks(tick_marks, range(n_classes))\n",
    "    plt.xlabel('Predicted')\n",
    "    plt.ylabel('True')\n",
    "\n",
    "    # Ensure the plot is shown correctly with multiple plots\n",
    "    # in a single Notebook cell.  \n",
    "    plt.show()"
   ]
  },
  {
   "cell_type": "markdown",
   "metadata": {},
   "source": [
    "### Helper-function: <font color='green'> Print Test Accuracy</font> ###"
   ]
  },
  {
   "cell_type": "markdown",
   "metadata": {},
   "source": [
    "## Performance Measures\n",
    "We need a few more performance measures to display the progress to the user.\n",
    "This is a vector of booleans whether the predicted class equals the true class of each image."
   ]
  },
  {
   "cell_type": "markdown",
   "metadata": {},
   "source": [
    "### Helper-function: <font color='green'> Perform Optimization</font> ###\n",
    "There are rougly 40,000 images in the training-set. It takes a long time to calculate the gradient of the model using all these images. We therefore only use a small batch of images in each iteration of the optimizer.\n",
    "\n",
    "If your computer crashes or becomes very slow because you run out of RAM, then you may try and lower this number, but you may then need to perform more optimization iterations."
   ]
  },
  {
   "cell_type": "markdown",
   "metadata": {},
   "source": [
    "Function for performing a number of optimization iterations so as to gradually improve the variables of the network layers. In each iteration, a new batch of data is selected from the training-set and then TensorFlow executes the optimizer using those training samples. The progress is printed every 100 iterations."
   ]
  },
  {
   "cell_type": "code",
   "execution_count": 14,
   "metadata": {
    "collapsed": false
   },
   "outputs": [],
   "source": [
    "def optimize(num_epochs=6):\n",
    "    # Start-time used for printing time-usage below.\n",
    "    start_time = time.time()\n",
    "    model = Model()\n",
    "    #mnist = read_data_sets()\n",
    "    batch_size = model.batch_size\n",
    "    num_examples = n_train\n",
    "    training_epochs = num_epochs\n",
    "    checkpoint_path = os.path.join('../cache', 'model.ckpt')\n",
    "\n",
    "    # load previously trained model if appilcable\n",
    "    ckpt = tf.train.get_checkpoint_state('../cache')\n",
    "    if ckpt:\n",
    "        model.load_model('../cache')\n",
    "        \n",
    "    # Training cycle\n",
    "    for epoch in range(training_epochs):\n",
    "        avg_cost = 0.\n",
    "        avg_accuracy = 0.\n",
    "        #mnist.shuffle_data()\n",
    "        total_batch = int(num_examples / batch_size)\n",
    "        shuf_X_train, shuf_y_train = X_train[:], y_train[:]\n",
    "        shuf_X_train, shuf_y_train  = shuffle_data(shuf_X_train, shuf_y_train)\n",
    "\n",
    "      \n",
    "    # Loop over all batches\n",
    "        for i in range(total_batch):\n",
    "            \n",
    "            # Get the correct batch of training examples.     \n",
    "            batch_start = i*batch_size\n",
    "            batch_end = min((i+1)*batch_size,  len(X_train))\n",
    "\n",
    "            # batch_images holds a batch of images and\n",
    "            # batch_labels holds the true labels for those images.\n",
    "\n",
    "            batch_images, batch_labels  = shuf_X_train[batch_start:batch_end], shuf_y_train[batch_start:batch_end]\n",
    "            cost, accuracy = model.partial_train(batch_images, batch_labels)\n",
    "\n",
    "            #assert( cost == cost and not math.isinf(cost)) # make sure it is not NaN or Inf\n",
    "            #assert( accuracy == accuracy and not math.isinf(accuracy)) # make sure it is not NaN or Inf\n",
    "\n",
    "            # Display logs per epoch step\n",
    "            if (i % 100 == 0):\n",
    "                print(\"epoch:\", '%04d' % (epoch+1), \\\n",
    "                        \"batch:\", '%04d' % (i), \\\n",
    "                        \"cost=\", \"{:.6f}\".format(cost), \\\n",
    "                        \"accuracy=\", \"{:.6f}\".format(accuracy))\n",
    "\n",
    "            # Compute average cost\n",
    "            avg_cost += cost / num_examples * batch_size\n",
    "            avg_accuracy += accuracy / num_examples * batch_size\n",
    "\n",
    "        # Display logs per epoch step\n",
    "        print(\"epoch:\", '%04d' % (epoch+1), \\\n",
    "              \"avg_cost=\", \"{:.6f}\".format(avg_cost), \\\n",
    "              \"avg_accuracy=\", \"{:.6f}\".format(avg_accuracy))\n",
    "\n",
    "        # save model every 1 epochs\n",
    "        if epoch >= 0 and epoch % 1 == 0:\n",
    "            model.save_model(checkpoint_path, epoch)\n",
    "            print(\"model saved to {}\".format(checkpoint_path))\n",
    "            \n",
    "    # save model one last time, under zero label to denote finish.\n",
    "    model.save_model(checkpoint_path, 0)\n",
    "    \n",
    "    #Testing Cycle\n",
    "    model.print_test_accuracy()\n",
    "    \n",
    "    # Ending time.\n",
    "    end_time = time.time()\n",
    "\n",
    "    # Difference between start and end-times.\n",
    "    time_dif = end_time - start_time\n",
    "\n",
    "    # Print the time-usage.\n",
    "    print(\"Time usage: \" + str(timedelta(seconds=int(round(time_dif)))))\n",
    "    "
   ]
  },
  {
   "cell_type": "markdown",
   "metadata": {},
   "source": [
    "### <font color='red'> Question 4</font> ###\n",
    "\n",
    "_How did you train your model? (Type of optimizer, batch size, epochs, hyperparameters, etc.)_\n"
   ]
  },
  {
   "cell_type": "markdown",
   "metadata": {},
   "source": [
    "** <font color='blue'> Answer:</font> **"
   ]
  },
  {
   "cell_type": "markdown",
   "metadata": {},
   "source": [
    "### <font color='red'> Question 5</font> ###\n",
    "\n",
    "\n",
    "_What approach did you take in coming up with a solution to this problem?_"
   ]
  },
  {
   "cell_type": "markdown",
   "metadata": {},
   "source": [
    "** <font color='blue'> Answer:</font> **"
   ]
  },
  {
   "cell_type": "markdown",
   "metadata": {},
   "source": [
    "### Helper-function: <font color='green'> Determine Performance</font> ###\n",
    "Function for printing the classification accuracy on the test-set.\n",
    "It takes a while to compute the classification for all the images in the test-set, that's why the results are re-used by calling the above functions directly from this function, so the classifications don't have to be recalculated by each function.\n",
    "Note that this function can use a lot of computer memory, which is why the test-set is split into smaller batches. If you have little RAM in your computer and it crashes, then you can try and lower the batch-size."
   ]
  },
  {
   "cell_type": "markdown",
   "metadata": {},
   "source": [
    "### Performance before any optimization\n",
    "The accuracy on the test-set is very low because the model variables have only been initialized and not optimized at all, so it just classifies the images randomly."
   ]
  },
  {
   "cell_type": "markdown",
   "metadata": {},
   "source": [
    "### Performance after 1 optimization iteration\n",
    "The classification accuracy does not improve much from just 1 optimization iteration, because the learning-rate for the optimizer is set very low."
   ]
  },
  {
   "cell_type": "code",
   "execution_count": null,
   "metadata": {
    "collapsed": false
   },
   "outputs": [
    {
     "name": "stdout",
     "output_type": "stream",
     "text": [
      "epoch: 0001 batch: 0000 cost= 5.247156 accuracy= 0.030000\n"
     ]
    }
   ],
   "source": [
    "optimize()"
   ]
  },
  {
   "cell_type": "markdown",
   "metadata": {},
   "source": [
    "---\n",
    "\n",
    "# Step 3: Test a Model on <font color='red'> New</font> Images\n",
    "\n",
    "Take several pictures of traffic signs that you find on the web or around you (at least five), and run them through your classifier on your computer to produce example results. The classifier might not recognize some local signs but it could prove interesting nonetheless.\n",
    "\n",
    "You may find `signnames.csv` useful as it contains mappings from the class id (integer) to the actual sign name."
   ]
  },
  {
   "cell_type": "markdown",
   "metadata": {},
   "source": [
    "### Implementation\n",
    "\n",
    "Use the code cell (or multiple code cells, if necessary) to implement the first step of your project. Once you have completed your implementation and are satisfied with the results, be sure to thoroughly answer the questions that follow."
   ]
  },
  {
   "cell_type": "code",
   "execution_count": null,
   "metadata": {
    "collapsed": true
   },
   "outputs": [],
   "source": [
    "### Load the images and plot them here.\n",
    "### Feel free to use as many code cells as needed."
   ]
  },
  {
   "cell_type": "markdown",
   "metadata": {},
   "source": [
    "### <font color='red'> Question 6</font> ###\n",
    "\n",
    "_Choose five candidate images of traffic signs and provide them in the report. Are there any particular qualities of the image(s) that might make classification difficult? It would be helpful to plot the images in the notebook._\n",
    "\n"
   ]
  },
  {
   "cell_type": "markdown",
   "metadata": {},
   "source": [
    "** <font color='blue'> Answer:</font> **"
   ]
  },
  {
   "cell_type": "code",
   "execution_count": null,
   "metadata": {
    "collapsed": true
   },
   "outputs": [],
   "source": [
    "### Run the predictions here.\n",
    "### Feel free to use as many code cells as needed."
   ]
  },
  {
   "cell_type": "markdown",
   "metadata": {},
   "source": [
    "### <font color='red'> Question 7</font> ###\n",
    "\n",
    "_Is your model able to perform equally well on captured pictures or a live camera stream when compared to testing on the dataset?_\n"
   ]
  },
  {
   "cell_type": "markdown",
   "metadata": {},
   "source": [
    "** <font color='blue'> Answer:</font> **"
   ]
  },
  {
   "cell_type": "code",
   "execution_count": null,
   "metadata": {
    "collapsed": true
   },
   "outputs": [],
   "source": [
    "### Visualize the softmax probabilities here.\n",
    "### Feel free to use as many code cells as needed."
   ]
  },
  {
   "cell_type": "markdown",
   "metadata": {},
   "source": [
    "### <font color='red'> Question 8</font> ###\n",
    "\n",
    "*Use the model's softmax probabilities to visualize the **certainty** of its predictions, [`tf.nn.top_k`](https://www.tensorflow.org/versions/r0.11/api_docs/python/nn.html#top_k) could prove helpful here. Which predictions is the model certain of? Uncertain? If the model was incorrect in its initial prediction, does the correct prediction appear in the top k? (k should be 5 at most)*\n"
   ]
  },
  {
   "cell_type": "markdown",
   "metadata": {},
   "source": [
    "** <font color='blue'> Answer:</font> **"
   ]
  },
  {
   "cell_type": "markdown",
   "metadata": {},
   "source": [
    "### <font color='red'> Question 9</font> ###\n",
    "\n",
    "_If necessary, provide documentation for how an interface was built for your model to load and classify newly-acquired images._\n"
   ]
  },
  {
   "cell_type": "markdown",
   "metadata": {},
   "source": [
    "** <font color='blue'> Answer:</font> **"
   ]
  },
  {
   "cell_type": "markdown",
   "metadata": {},
   "source": [
    "> **Note**: Once you have completed all of the code implementations and successfully answered each question above, you may finalize your work by exporting the iPython Notebook as an HTML document. You can do this by using the menu above and navigating to  \\n\",\n",
    "    \"**File -> Download as -> HTML (.html)**. Include the finished document along with this notebook as your submission."
   ]
  },
  {
   "cell_type": "code",
   "execution_count": null,
   "metadata": {
    "collapsed": true
   },
   "outputs": [],
   "source": []
  }
 ],
 "metadata": {
  "anaconda-cloud": {},
  "kernelspec": {
   "display_name": "Python [conda env:CarND-TensorFlow-Lab]",
   "language": "python",
   "name": "conda-env-CarND-TensorFlow-Lab-py"
  },
  "language_info": {
   "codemirror_mode": {
    "name": "ipython",
    "version": 3
   },
   "file_extension": ".py",
   "mimetype": "text/x-python",
   "name": "python",
   "nbconvert_exporter": "python",
   "pygments_lexer": "ipython3",
   "version": "3.5.2"
  }
 },
 "nbformat": 4,
 "nbformat_minor": 1
}
