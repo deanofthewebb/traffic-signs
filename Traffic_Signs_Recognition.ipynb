{
 "cells": [
  {
   "cell_type": "markdown",
   "metadata": {},
   "source": [
    "# Self-Driving Car Engineer Nanodegree\n",
    "## Deep Learning Module: Build a Traffic Sign Recognition Classifier - Dean Webb\n",
    "\n",
    "In this notebook, a template is provided for you to implement your functionality in stages which is required to successfully complete this project. If additional code is required that cannot be included in the notebook, be sure that the Python code is successfully imported and included in your submission, if necessary. Sections that begin with **'Implementation'** in the header indicate where you should begin your implementation for your project. Note that some sections of implementation are optional, and will be marked with **'Optional'** in the header.\n",
    "\n",
    "In addition to implementing code, there will be questions that you must answer which relate to the project and your implementation. Each section where you will answer a question is preceded by a **'Question'** header. Carefully read each question and provide thorough answers in the following text boxes that begin with **'Answer:'**. Your project submission will be evaluated based on your answers to each of the questions and the implementation you provide."
   ]
  },
  {
   "cell_type": "markdown",
   "metadata": {},
   "source": [
    "---\n",
    "\n",
    "## Step 1: Dataset Exploration - Summary\n",
    "\n",
    "Visualize the German Traffic Signs Dataset. This is open ended, some suggestions include: plotting traffic signs images, plotting the count of each sign, etc. Be creative!"
   ]
  },
  {
   "cell_type": "markdown",
   "metadata": {},
   "source": [
    "### <font color='red'> Question 1</font> ###\n",
    "\n",
    "**_Describe the techniques used to preprocess the data._**"
   ]
  },
  {
   "cell_type": "markdown",
   "metadata": {},
   "source": [
    "** <font color='blue'> Answer: </font> ** The main technique that I am thrilled to report is that I was able to successfully download and preprocess the raw image files straight from the German Traffic Sign Classifier Benchmark source: \"http://benchmark.ini.rub.de/Dataset/\" (347 MB). This allows me to much more flexibility for preprcoessing. for example, I can change the resolution of all images that feed into my network by simply changing the \"DEFAULT_RESOLUTION\" tuple in my constants section below. Further, I can similarly utilize localization in the image by crop the image to the size of the bounding box. A combination of resizing and cropping hopefully will help to reduce (or introduce) noise in my dataset.\n",
    "\n",
    "Lastly, I serialized and cached the dataset into a pickle file, utilizing the helper function provided. This is done by setting the refresh_datacache=True. The pickled data is a dictionary with 4 key/value pairs:\n",
    "- features -> the images pixel values, (width, height, channels)\n",
    "- labels -> the label of the traffic sign\n",
    "- sizes -> the original width and height of the image, (width, height)\n",
    "- coords -> coordinates of a bounding box around the sign in the image, (x1, y1, x2, y2). Based the original image (not the resized version)."
   ]
  },
  {
   "cell_type": "markdown",
   "metadata": {},
   "source": [
    "### <font color='red'> Question 2</font> ###\n",
    "\n",
    "**_Describe how you set up the training, validation and testing data for your model. If you generated additional data, why?_**"
   ]
  },
  {
   "cell_type": "markdown",
   "metadata": {},
   "source": [
    "** <font color='blue'> Answer:</font> ** I wanted to really test out my the preprocessing of the RAW images vs the Udacity provided dataset, so I introduced a flag \"use_raw_dataset\" that alternates between the two datasets. I note that this flag is used in combination with the flag above in my \"load_datasets\" function to produce the following outcomes:\n",
    "    \n",
    "**<font color='blue'>use_raw_dataset=True, refresh_datacache=True</font>**  \n",
    "    - Starts preprocessing from scratch utilizing the raw dataset Downloads from source, preprocesses, overwrites the datacache\n",
    "\n",
    "**<font color='blue'>use_raw_dataset=True, refresh_datacache=False</font>**\n",
    "    - Restores the dataset from the datacache. (Note, the refresh_datacache flag takes precedence, so if the flag is set to false. It uses the datacache currently stored with no preference to the source! This can be accomplished by including a \"datasource\" flag into the datacache) \n",
    "\n",
    "**<font color='blue'>use_raw_dataset=False, refresh_datacache=True</font>**\n",
    "    - Starts preprocessing from scratch utilizing the Udacity dataset\n",
    "    \n",
    "**<font color='blue'>use_raw_dataset=False, refresh_datacache=False</font>**\n",
    "    - Restores dataset from the datacache. (Note, the refresh_datacache flag takes precedence, so if the flag is set to false. It uses the datacache currently stored with no preference to the source! This can be accomplished by including a \"datasource\" flag into the datacache)"
   ]
  },
  {
   "cell_type": "markdown",
   "metadata": {},
   "source": [
    "# Choose Datasource: RAW (ppm) images vs. PreProcessed Image Cache"
   ]
  },
  {
   "cell_type": "markdown",
   "metadata": {},
   "source": [
    "### Imports"
   ]
  },
  {
   "cell_type": "code",
   "execution_count": 1,
   "metadata": {
    "collapsed": false
   },
   "outputs": [],
   "source": [
    "%matplotlib inline\n",
    "import matplotlib.pyplot as plt\n",
    "import tensorflow as tf\n",
    "import numpy as np\n",
    "from sklearn.metrics import confusion_matrix\n",
    "import time\n",
    "from datetime import timedelta\n",
    "import math\n",
    "import os\n",
    "import gzip\n",
    "import urllib\n",
    "import zipfile\n",
    "import glob\n",
    "from PIL import Image\n",
    "import csv\n",
    "import matplotlib.image as mpimg\n",
    "import pickle\n",
    "import shutil"
   ]
  },
  {
   "cell_type": "markdown",
   "metadata": {},
   "source": [
    "### Constants"
   ]
  },
  {
   "cell_type": "code",
   "execution_count": 2,
   "metadata": {
    "collapsed": false
   },
   "outputs": [],
   "source": [
    "DE_TRAFFIC_SIGNS_SOURCE_URL = \"https://d17h27t6h515a5.cloudfront.net/topher/2016/November/581faac4_traffic-signs-data/\"\n",
    "GTSRB_SOURCE_URL = \"http://benchmark.ini.rub.de/Dataset/\"\n",
    "DEFAULT_LENGTH, DEFAULT_WIDTH, DEFAULT_DEPTH = (32, 32, 3)\n",
    "DEFAULT_RESOLUTION = (DEFAULT_LENGTH, DEFAULT_WIDTH, DEFAULT_DEPTH) if DEFAULT_DEPTH > 1 else (DEFAULT_LENGTH, DEFAULT_WIDTH)\n",
    "\n",
    "DEFAULT_IMG_EXTENSION = '.ppm'\n",
    "DATASET_DIRECTORY = 'traffic-signs-data/'\n",
    "DATACACHE_DIRECTORY = 'datacache/'\n",
    "PRE_PROCESSED_ZIP = 'traffic-signs-data.zip'\n",
    "\n",
    "TRAIN_IMAGES_ZIP = 'GTSRB_Final_Training_Images.zip'\n",
    "TRAIN_IMAGES_DIR = 'GTSRB/Final_Training/Images'\n",
    "\n",
    "TEST_IMAGES_ZIP = 'GTSRB_Final_Test_Images.zip'\n",
    "TEST_IMAGES_DIR = 'GTSRB/Final_Test/Images'\n",
    "\n",
    "TEST_LABELS_ZIP = 'GTSRB_Final_Test_GT.zip'\n",
    "TESTING_LABELS_CSV = 'GT-final_test.csv'\n",
    "CLASSIFIED_LABELS_CSV = 'signnames.csv'"
   ]
  },
  {
   "cell_type": "markdown",
   "metadata": {},
   "source": [
    "## Helper Module: Preprocessing Engine: \n",
    "Module for downloading, extracting, processing, and loading the Datasets. Currently supports the preprocessed, Udacity provided dataset, and the corresponding raw data set from http://benchmark.ini.rub.de/Dataset/ (347 MB)"
   ]
  },
  {
   "cell_type": "code",
   "execution_count": 3,
   "metadata": {
    "collapsed": false
   },
   "outputs": [],
   "source": [
    "#Module\n",
    "def maybe_download(filename, work_directory, use_raw_dataset=True):\n",
    "    filepath = os.path.join(work_directory, filename)\n",
    "    if use_raw_dataset:\n",
    "        SOURCE_URL = GTSRB_SOURCE_URL\n",
    "    else:\n",
    "        SOURCE_URL = DE_TRAFFIC_SIGNS_SOURCE_URL\n",
    "\n",
    "    if not os.path.exists(work_directory):\n",
    "        os.mkdir(work_directory)\n",
    "        filepath = os.path.join(work_directory, filename)\n",
    "    if not os.path.exists(os.path.join(work_directory, filename)) or not os.path.exists(filepath):\n",
    "        filepath, _ = urllib.request.urlretrieve(SOURCE_URL + filename, filepath)\n",
    "        statinfo = os.stat(filepath)\n",
    "        print('Succesfully downloaded:', filepath, '| % d MB.' % int(statinfo.st_size*1e-6))\n",
    "    return filepath\n",
    "\n",
    "def _read32(bytestream):\n",
    "    dt = np.dtype(np.uint32).newbyteorder('>')\n",
    "    return np.frombuffer(bytestream.read(4), dtype=dt)\n",
    "\n",
    "def unzip_file(source, new_filename, destination):\n",
    "    root, ext = os.path.splitext(new_filename)\n",
    "    if not os.path.exists(os.path.join(destination, new_filename)) or len(ext) > 0:\n",
    "        print('File does not exist: ', os.path.join(destination, new_filename), ': Extracting')\n",
    "        zipf = zipfile.ZipFile(os.path.join(source,new_filename))\n",
    "        print('Loaded zipf',zipf, ': Extracting')\n",
    "        zipf.extractall(destination)\n",
    "        zipf.close()\n",
    "\n",
    "def read_csv(filepath, num_features = (8), delimiter=';', label_column=7):\n",
    "    data_array = np.array(np.zeros(shape=num_features))\n",
    "    with open(filepath, newline='') as csvfile:\n",
    "        annotations_reader = csv.reader(csvfile, delimiter=delimiter, quotechar='|')\n",
    "        for row in annotations_reader:\n",
    "            if row[label_column].isdigit():\n",
    "                data_array = np.vstack((data_array, np.array(row)))\n",
    "    return data_array[1:]\n",
    "\n",
    "def extract_label_names():\n",
    "    annotations = read_csv(os.path.join(CLASSIFIED_LABELS_CSV), num_features = (2), delimiter=',', label_column=0)\n",
    "    return annotations\n",
    "\n",
    "\n",
    "def exclude_hidden_files(path):\n",
    "    return glob.glob(os.path.join(path, '*'))\n",
    "\n",
    "def resize_images(filepaths, return_data=True):\n",
    "    # Returns a list of images of corresponding filepaths\n",
    "    images = []\n",
    "    labels = [] if return_data else None\n",
    "    file_names = np.array(np.zeros(shape=(1)))\n",
    "\n",
    "    for current_img in filepaths:\n",
    "        if os.path.exists(current_img) and DEFAULT_IMG_EXTENSION in current_img:\n",
    "            img = Image.open(current_img)\n",
    "            if ((img.size) != (DEFAULT_LENGTH, DEFAULT_LENGTH)):\n",
    "                img = img.resize(DEFAULT_RESOLUTION[0:2], Image.ANTIALIAS)\n",
    "            img.save(current_img)\n",
    "            img.close()\n",
    "            images.extend([mpimg.imread(str(current_img))])\n",
    "            split_paths = os.path.split(current_img)\n",
    "                        \n",
    "            label_path = os.path.split(split_paths[0])[1]\n",
    "            if return_data and label_path.isdigit() and len(label_path) == 5:\n",
    "                labels.extend([int(label_path)])\n",
    "                np.vstack((file_names, np.array(split_paths[1])))\n",
    "            else:\n",
    "                file_names = np.vstack((file_names, split_paths[1]))\n",
    "        else:\n",
    "            print(\"File {0} is not an image with extension: {1}! Skipping..\".format(\n",
    "                  current_img, DEFAULT_IMG_EXTENSION))\n",
    "    if return_data:\n",
    "        return (np.array(images), np.reshape(file_names[1:], (-1)), labels)\n",
    "\n",
    "def extract_training_data(filename, work_directory, images_path):\n",
    "    #Unzip File\n",
    "    head, tail = os.path.split(filename)\n",
    "    print('unzipping file:', tail, 'to directory:', work_directory)\n",
    "    unzip_file(head, tail, work_directory)\n",
    "        \n",
    "    #Walk Directories and load dataset\n",
    "    images_path_dir = os.listdir(os.path.join(work_directory, images_path))\n",
    "    label_array = []\n",
    "    filename_array = []\n",
    "    data = np.array([np.zeros(shape=DEFAULT_RESOLUTION)])\n",
    "    for label_path in images_path_dir:\n",
    "        working_dir= os.path.join(work_directory, images_path, label_path)\n",
    "        #print(\"working_dir\", working_dir)\n",
    "\n",
    "        if os.path.exists(os.path.join(working_dir, '/')):\n",
    "            filenames = np.array([os.path.join(working_dir, path) for path\n",
    "                           in os.listdir(working_dir) if DEFAULT_IMG_EXTENSION in path\n",
    "                                  and \")\" not in path and \"(\" not in path \n",
    "                                  and os.path.exists(os.path.join(working_dir, path))])         \n",
    "            images_batch, filenames_batch, labels_batch = resize_images(filenames)\n",
    "            if images_batch.shape[1:] == DEFAULT_RESOLUTION:\n",
    "                data = np.vstack((data, images_batch))\n",
    "            filename_array.extend(filenames_batch)\n",
    "            label_array.extend(labels_batch)\n",
    "\n",
    "    return (data[1:], label_array, filename_array)\n",
    "        \n",
    "def extract_testing_data(filename, work_directory, images_path):\n",
    "    #Unzip File\n",
    "    head, tail = os.path.split(filename)\n",
    "    print('unzipping file:', tail, 'to directory:', work_directory)\n",
    "    unzip_file(head, tail, work_directory)\n",
    "\n",
    "    local_test_label_path = maybe_download(TEST_LABELS_ZIP, work_directory)\n",
    "    \n",
    "    if not os.path.exists(os.path.join(work_directory, images_path, TESTING_LABELS_CSV)):\n",
    "        print('File does not exist: ', os.path.join(work_directory, images_path, TESTING_LABELS_CSV), ': Extracting')\n",
    "        zipf = zipfile.ZipFile(local_test_label_path)\n",
    "        print('Loaded zipf',zipf, ': Extracting')\n",
    "        zipf.extractall(os.path.join(work_directory, images_path))\n",
    "        zipf.close()\n",
    "    \n",
    "    annotations = read_csv(os.path.join(work_directory, images_path, TESTING_LABELS_CSV))\n",
    "    \n",
    "    #Walk Directories and load Dataset\n",
    "    images_path = exclude_hidden_files(os.path.join(work_directory, images_path))\n",
    "    data = [np.array(np.zeros(shape=DEFAULT_RESOLUTION))]\n",
    "    filenames = np.array([path for path\n",
    "                           in images_path if DEFAULT_IMG_EXTENSION in path\n",
    "                                  and \")\" not in path and \"(\" not in path and os.path.exists(path)])\n",
    "    \n",
    "    \n",
    "    images_batch, filenames_batch, _ = resize_images(filenames, return_data=True)\n",
    "    \n",
    "    labels_batch = np.array([int(label) for label in annotations[:,7] if np.chararray.isdigit(label)])\n",
    "    \n",
    "    #Load Labels from filename\n",
    "    labels = np.array(np.zeros(shape=(1)))\n",
    "    for filename in filenames_batch:\n",
    "        label_index = np.nonzero( annotations[:,0] == filename) \n",
    "        label = annotations[:,7][label_index]\n",
    "        labels= np.vstack((labels, label))\n",
    "    \n",
    "    return (images_batch, np.reshape(labels[1:], (-1)), filenames_batch)\n",
    "\n",
    "def extract_preprocessed_data(filename, work_directory):\n",
    "    if not os.path.exists(work_directory):\n",
    "        os.mkdir(work_directory)\n",
    "    datacache_directory = os.path.join(work_directory, DATACACHE_DIRECTORY)\n",
    "    if not os.path.exists(datacache_directory):\n",
    "        os.mkdir(datacache_directory)\n",
    "    head, tail = os.path.split(filename)\n",
    "    print('unzipping file:', tail, 'to directory:', datacache_directory)\n",
    "    unzip_file(head, tail, datacache_directory)\n",
    "    return datacache_directory\n",
    "\n",
    "def restore_from_datacache(datacache_dir):\n",
    "    training_file = os.path.join(datacache_dir,\"train.p\")\n",
    "    testing_file = os.path.join(datacache_dir, \"test.p\") \n",
    "    \n",
    "    with open(training_file, mode='rb') as f:\n",
    "        train = pickle.load(f)\n",
    "    with open(testing_file, mode='rb') as f:\n",
    "        test = pickle.load(f)\n",
    "    X_train, y_train = train['features'], train['labels']\n",
    "    X_test, y_test = test['features'], test['labels']\n",
    "\n",
    "    return (X_train, y_train, X_test, y_test)\n",
    "\n",
    "def overwrite_datacache(training_set, testing_set, datacache_dir):\n",
    "    if os.path.exists(datacache_dir):\n",
    "        shutil.rmtree(datacache_dir, ignore_errors=True)\n",
    "    os.mkdir(datacache_dir)\n",
    "    \n",
    "    training_file = os.path.join(datacache_dir,\"train.p\")\n",
    "    testing_file = os.path.join(datacache_dir, \"test.p\") \n",
    "    \n",
    "    train = { 'features': training_set.images, 'labels': training_set.labels }\n",
    "    test = { 'features': testing_set.images, 'labels': testing_set.labels }\n",
    "\n",
    "    pickle.dump(train, open(training_file, \"wb\"))\n",
    "    pickle.dump(test, open(testing_file, \"wb\"))\n",
    "\n",
    "def extract_features(filename):\n",
    "    with gzip.open(filename) as bytestream:\n",
    "        magic = _read32(bytestream)\n",
    "        if magic != 2049:\n",
    "            raise ValueError(\n",
    "            'Invalid magic number %d in MNIST label file: %s' %\n",
    "            (magic, filename))\n",
    "    num_items = _read32(bytestream)\n",
    "    buf = bytestream.read(num_items)\n",
    "    features = np.frombuffer(buf, dtype=np.uint8)\n",
    "    return labels"
   ]
  },
  {
   "cell_type": "code",
   "execution_count": 4,
   "metadata": {
    "collapsed": false
   },
   "outputs": [],
   "source": [
    "# class to store Datasets\n",
    "class DataSet(object):\n",
    "    def __init__(self, images, labels, filenames, labelnames):\n",
    "        # Convert from [0, 255] -> [0.0, 1.0].\n",
    "        images = images.astype(np.float32)\n",
    "        labels = labels.astype(np.int_)\n",
    "        images = np.multiply(images, 1.0 / 255.0)\n",
    "        if filenames.shape[0] == 0:\n",
    "            filenames = np.array(np.zeros_like(labels))\n",
    "        if labelnames.shape[0] == 0:\n",
    "            labelnames = np.array(np.zeros_like(labels))\n",
    "            \n",
    "        self._num_examples = len(images)\n",
    "        self._images = images\n",
    "        self._labels = labels  \n",
    "        self._epochs_completed = 0\n",
    "        self._index_in_epoch = 0\n",
    "        self._filenames = filenames\n",
    "        self._labelnames = labelnames\n",
    "        \n",
    "        #Shuffle Data\n",
    "        perm = np.arange(self._num_examples)\n",
    "        np.random.shuffle(perm)\n",
    "        self._images = self._images[perm]\n",
    "        self._labels = self._labels[perm]\n",
    "        self._filenames = self._filenames[perm]\n",
    "        \n",
    "        self.run_sanity_check()\n",
    "        self.show_example_images()\n",
    "        \n",
    "    @property\n",
    "    def images(self):\n",
    "        return self._images\n",
    "    @property\n",
    "    def filenames(self):\n",
    "        return self._filenames\n",
    "    @property\n",
    "    def labelnames(self):\n",
    "        return self._labelnames\n",
    "    @property\n",
    "    def labels(self):\n",
    "        return self._labels\n",
    "    @property\n",
    "    def num_examples(self):\n",
    "        return self._num_examples\n",
    "    @property\n",
    "    def epochs_completed(self):\n",
    "        return self._epochs_completed\n",
    "    \n",
    "    def next_batch(self, batch_size, with_label = False):\n",
    "        #Return the next `batch_size` examples from this Dataset.\n",
    "        start = self._index_in_epoch\n",
    "        self._index_in_epoch += batch_size\n",
    "        if self._index_in_epoch > self._num_examples:\n",
    "            # Finished epoch\n",
    "            self._epochs_completed += 1\n",
    "            # Shuffle the data\n",
    "            perm = np.arange(self._num_examples)\n",
    "            np.random.shuffle(perm)\n",
    "            self._images = self._images[perm]\n",
    "            self._labels = self._labels[perm]\n",
    "            self._filenames = self._filenames[perm]\n",
    "            # Start next epoch\n",
    "            start = 0\n",
    "            self._index_in_epoch = batch_size\n",
    "            assert batch_size <= self._num_examples\n",
    "        end = self._index_in_epoch\n",
    "        if with_label == True:\n",
    "            #return self.distort_batch(self._images[start:end]), self._labels[start:end], self._filenames[start:end]\n",
    "        #return self.distort_batch(self._images[start:end])\n",
    "            return self._images[start:end], self._labels[start:end]\n",
    "        return self._images[start:end]\n",
    "    \n",
    "    def get_labelname(self, label_id):\n",
    "        return self._labelnames[label_id][1]\n",
    "    \n",
    "    def distort_batch(self, batch):\n",
    "        batch_size = len(batch)\n",
    "        row_distort = np.random.randint(0, 3, batch_size)\n",
    "        col_distort = np.random.randint(0, 3, batch_size)\n",
    "        # dep_distort = np.random.randint(0, 3, batch_size)\n",
    "        result = np.zeros(shape=(batch_size, DEFAULT_LENGTH, DEFAULT_WIDTH, DEFAULT_DEPTH), dtype=np.float32)\n",
    "        for i in range(batch_size):\n",
    "            print(\"row_distort[i]:row_distort[i]+32 |\", row_distort[i],row_distort[i]+DEFAULT_WIDTH)\n",
    "            print(\"col_distort[i]:col_distort[i]+32 |\", row_distort[i],row_distort[i]+DEFAULT_LENGTH)\n",
    "            result[i, :, :, :] = batch[i, row_distort[i]:row_distort[i]+DEFAULT_LENGTH, col_distort[i]:col_distort[i]+DEFAULT_WIDTH, :]\n",
    "        return result\n",
    "\n",
    "    def plot_images(self, cls_pred=None):\n",
    "        # Create figure with 3x3 sub-plots.\n",
    "        fig, axes = plt.subplots(3, 3)\n",
    "        fig.subplots_adjust(hspace=1.5, wspace=2.5)\n",
    "\n",
    "        for i, ax in enumerate(axes.flat):\n",
    "            # Plot image.\n",
    "            ax.imshow(self.images[i].reshape(DEFAULT_RESOLUTION))\n",
    "\n",
    "            # Show true and predicted classes.\n",
    "            if cls_pred is None:\n",
    "                xlabel = \"T: {0:.30}\".format(self.get_labelname(self._labels[i]))\n",
    "            else:\n",
    "                xlabel = \"T: {0}, P: {1}\".format(self.get_labelname(self._labels[i]),self.get_labelname(cls_pred[i]))\n",
    "\n",
    "            # Show the classes as the label on the x-axis.\n",
    "            ax.set_xlabel(xlabel)\n",
    "\n",
    "            # Remove ticks from the plot.\n",
    "            ax.set_xticks([])\n",
    "            ax.set_yticks([])\n",
    "\n",
    "        # Ensure the plot is shown correctly with multiple plots\n",
    "        # in a single Notebook cell.\n",
    "        plt.show()\n",
    "    \n",
    "    def show_example_images(self):        \n",
    "        self.plot_images()\n",
    "\n",
    "    \n",
    "    def shuffle_data(self):\n",
    "        perm = np.arange(self._num_examples)\n",
    "        np.random.shuffle(perm)\n",
    "        self._images = self._images[perm]\n",
    "        self._labels = self._labels[perm]\n",
    "        self._filenames = self._filenames[perm]\n",
    "        \n",
    "    def run_sanity_check(self):\n",
    "        print('')\n",
    "        print(\"Sanity Check on Dataset ...\", self)\n",
    "        print(\"Images tensor shape:\", self.images.shape)\n",
    "        print(\"Labels vector length:\",self.labels.shape)\n",
    "        print(\"Number of image filenames vector length:\",self.filenames.shape)\n",
    "        print(\"Number of classified labelnames vector length:\",self.labelnames.shape)\n",
    "        print(\"Number of image examples in the set:\",self.num_examples)\n",
    "        print('')\n",
    "        # print(\"First 20 labels in set:\",self.labels[:20])\n",
    "        # print(\"First 20 filenames in set:\",self.filenames[:20])\n",
    "        assert self.images.shape[0] == self.labels.shape[0], \"The images/labels must match in the Dataset!\\n\"\n",
    "\n",
    "    \n",
    "    # Pre-Processed (Classroom) Dataset: \n",
    "    # \"https://d17h27t6h515a5.cloudfront.net/topher/2016/November/581faac4_traffic-signs-data/traffic-signs-data.zip\" (121 MB)\n",
    "    def load_dataset(use_raw_dataset=True, refresh_datacache=False):\n",
    "        working_dir = DATASET_DIRECTORY\n",
    "        datacache_dir = os.path.join(working_dir, DATACACHE_DIRECTORY)\n",
    "        labelnames = extract_label_names()\n",
    "            \n",
    "        if use_raw_dataset:\n",
    "            if  refresh_datacache:\n",
    "                # Extract Training Data\n",
    "                local_path = maybe_download(TRAIN_IMAGES_ZIP, working_dir, use_raw_dataset=True)\n",
    "                train_images, train_labels, train_filenames = extract_training_data(local_path, working_dir, TRAIN_IMAGES_DIR)\n",
    "                # Extract Testing Data\n",
    "                local_path = maybe_download(TEST_IMAGES_ZIP, working_dir, use_raw_dataset=True)\n",
    "                test_images, test_labels, test_filenames = extract_testing_data(local_path, working_dir, TEST_IMAGES_DIR)\n",
    "                # Load Datasets\n",
    "                training_set = DataSet(train_images, np.array(train_labels), np.array(train_filenames), labelnames)\n",
    "                testing_set = DataSet(test_images, test_labels, test_filenames, labelnames) \n",
    "                # Overwrite Pickle File\n",
    "                overwrite_datacache(training_set, testing_set, datacache_dir)\n",
    "            else:\n",
    "                # Extract Dataset from Pickle file\n",
    "                train_images, train_labels, test_images, test_labels = restore_from_datacache(datacache_dir)\n",
    "                train_filenames, test_filenames = (np.array([]), np.array([]))\n",
    "                # Load Datasets\n",
    "                training_set = DataSet(train_images, train_labels, train_filenames, labelnames)\n",
    "                testing_set = DataSet(test_images, test_labels, test_filenames, labelnames)\n",
    "        elif refresh_datacache:\n",
    "            # Remove Datacache\n",
    "            if os.path.exists(datacache_dir):\n",
    "                shutil.rmtree(datacache_dir, ignore_errors=True)\n",
    "                os.mkdir(datacache_dir)\n",
    "            # Extract Preprocessed Data   \n",
    "            local_path = maybe_download(PRE_PROCESSED_ZIP, working_dir, use_raw_dataset=False)\n",
    "            datacache_dir = extract_preprocessed_data(local_path, working_dir)\n",
    "            train_images, train_labels, test_images, test_labels = restore_from_datacache(datacache_dir)\n",
    "            train_filenames, test_filenames = (np.array([]), np.array([]))\n",
    "            # Load Datasets\n",
    "            training_set = DataSet(train_images, train_labels, train_filenames, labelnames)\n",
    "            testing_set = DataSet(test_images, test_labels, test_filenames, labelnames)\n",
    "            overwrite_datacache(training_set, testing_set, datacache_dir)\n",
    "        else:\n",
    "            # Extract Dataset from Pickle file\n",
    "            train_images, train_labels, test_images, test_labels = restore_from_datacache(datacache_dir)\n",
    "            train_filenames, test_filenames = (np.array([]), np.array([]))\n",
    "            # Load Datasets\n",
    "            print('\\nTraining Set -  Loaded')\n",
    "            training_set = DataSet(train_images, train_labels, train_filenames, labelnames)\n",
    "            print('Testing Set -  Loaded')\n",
    "            testing_set = DataSet(test_images, test_labels, test_filenames, labelnames)\n",
    "            \n",
    "        return (training_set, testing_set)\n"
   ]
  },
  {
   "cell_type": "markdown",
   "metadata": {},
   "source": [
    "## Data Dimensions\n",
    "The data dimensions are used in several places in the model below. They are defined once so we can use these variables instead of numbers throughout the code."
   ]
  },
  {
   "cell_type": "code",
   "execution_count": 5,
   "metadata": {
    "collapsed": false,
    "scrolled": false
   },
   "outputs": [
    {
     "name": "stdout",
     "output_type": "stream",
     "text": [
      "unzipping file: GTSRB_Final_Training_Images.zip to directory: traffic-signs-data/\n",
      "File does not exist:  traffic-signs-data/GTSRB_Final_Training_Images.zip : Extracting\n",
      "Loaded zipf <zipfile.ZipFile filename='traffic-signs-data/GTSRB_Final_Training_Images.zip' mode='r'> : Extracting\n",
      "unzipping file: GTSRB_Final_Test_Images.zip to directory: traffic-signs-data/\n",
      "File does not exist:  traffic-signs-data/GTSRB_Final_Test_Images.zip : Extracting\n",
      "Loaded zipf <zipfile.ZipFile filename='traffic-signs-data/GTSRB_Final_Test_Images.zip' mode='r'> : Extracting\n",
      "\n",
      "Sanity Check on Dataset ... <__main__.DataSet object at 0x7fdc88a41f98>\n",
      "Images tensor shape: (39209, 32, 32, 3)\n",
      "Labels vector length: (39209,)\n",
      "Number of image filenames vector length: (39209,)\n",
      "Number of classified labelnames vector length: (43, 2)\n",
      "Number of image examples in the set: 39209\n",
      "\n"
     ]
    },
    {
     "data": {
      "image/png": "[encoded data removed]",
      "text/plain": [
       "<matplotlib.figure.Figure at 0x7fdc89633ba8>"
      ]
     },
     "metadata": {},
     "output_type": "display_data"
    },
    {
     "name": "stdout",
     "output_type": "stream",
     "text": [
      "\n",
      "Sanity Check on Dataset ... <__main__.DataSet object at 0x7fdc4e4655c0>\n",
      "Images tensor shape: (12630, 32, 32, 3)\n",
      "Labels vector length: (12630,)\n",
      "Number of image filenames vector length: (12630,)\n",
      "Number of classified labelnames vector length: (43, 2)\n",
      "Number of image examples in the set: 12630\n",
      "\n"
     ]
    },
    {
     "data": {
      "image/png": "[encoded data removed]",
      "text/plain": [
       "<matplotlib.figure.Figure at 0x7fdc8806ac50>"
      ]
     },
     "metadata": {},
     "output_type": "display_data"
    }
   ],
   "source": [
    "#Load Datasets\n",
    "training_set, testing_set = DataSet.load_dataset(use_raw_dataset=True, refresh_datacache=True)\n"
   ]
  },
  {
   "cell_type": "markdown",
   "metadata": {},
   "source": [
    "----\n",
    "\n",
    "## Step 2: Design and Test a Model Architecture\n",
    "\n",
    "Design and implement a deep learning model that learns to recognize traffic signs. Train and test your model on the [German Traffic Sign Dataset](http://benchmark.ini.rub.de/?section=gtsrb&subsection=dataset).\n",
    "\n",
    "There are various aspects to consider when thinking about this problem:\n",
    "\n",
    "- Your model can be derived from a deep feedforward net or a deep convolutional network.\n",
    "- Play around preprocessing techniques (normalization, rgb to grayscale, etc)\n",
    "- Number of examples per label (some have more than others).\n",
    "- Generate fake data.\n",
    "\n",
    "Here is an example of a [published baseline model on this problem](http://yann.lecun.com/exdb/publis/pdf/sermanet-ijcnn-11.pdf). It's not required to be familiar with the approach used in the paper but, it's good practice to try to read papers like these."
   ]
  },
  {
   "cell_type": "markdown",
   "metadata": {},
   "source": [
    "# Architecture"
   ]
  },
  {
   "cell_type": "markdown",
   "metadata": {},
   "source": [
    "### Helper Class: <font color='green'> Batch Normalization</font>"
   ]
  },
  {
   "cell_type": "code",
   "execution_count": 6,
   "metadata": {
    "collapsed": false
   },
   "outputs": [],
   "source": [
    "class batch_norm(object):\n",
    "    def __init__(self, batch_size, epsilon=1e-5, momentum = 0.1, name=\"batch_norm\"):\n",
    "        with tf.variable_scope(name) as scope:\n",
    "            try:\n",
    "                self.epsilon = epsilon\n",
    "                self.momentum = momentum\n",
    "                self.batch_size = batch_size\n",
    "\n",
    "                self.ema = tf.train.ExponentialMovingAverage(decay=self.momentum)\n",
    "                self.name=name\n",
    "            except ValueError:\n",
    "                scope.reuse_variables()\n",
    "                self.epsilon = tf.get_variable('epsilon')\n",
    "                self.momentum = tf.get_variable('momentum')\n",
    "                self.batch_size = tf.get_variable('batch_size')\n",
    "                self.ema = tf.train.ExponentialMovingAverage(decay=self.momentum)\n",
    "                self.name = tf.get_variable('name')\n",
    "            \n",
    "            \n",
    "\n",
    "    def __call__(self, x, train=True):\n",
    "        shape = x.get_shape().as_list()\n",
    "\n",
    "        with tf.variable_scope(self.name) as scope:\n",
    "            try:\n",
    "                self.gamma = tf.get_variable(\"gamma\", [shape[-1]],\n",
    "                            initializer=tf.random_normal_initializer(1., 0.02))\n",
    "                self.beta = tf.get_variable(\"beta\", [shape[-1]],\n",
    "                            initializer=tf.constant_initializer(0.))\n",
    "                self.mean, self.variance = tf.nn.moments(x, [0, 1, 2])\n",
    "            except ValueError:\n",
    "                scope.reuse_variables()\n",
    "                self.gamma = tf.get_variable(\"gamma\")\n",
    "                self.beta = tf.get_variable(\"beta\")\n",
    "                self.mean, self.variance = tf.nn.moments(x, [0, 1, 2])\n",
    "\n",
    "            return tf.nn.batch_norm_with_global_normalization(\n",
    "                   x, self.mean, self.variance, self.beta, self.gamma, self.epsilon,\n",
    "                   scale_after_normalization=True)"
   ]
  },
  {
   "cell_type": "code",
   "execution_count": 7,
   "metadata": {
    "collapsed": false
   },
   "outputs": [],
   "source": [
    "def lrelu(x, leak=0.2, name=\"leaky_relu\"):\n",
    "    with tf.variable_scope(name):\n",
    "        f1 = 0.5 * (1 + leak)\n",
    "        f2 = 0.5 * (1 - leak)\n",
    "        return f1 * x + f2 * abs(x)\n",
    "        \n",
    "def linear(input_, output_size, scope=None, stddev=0.02, bias_start=0.0, with_w=False):        \n",
    "    shape = input_.get_shape().as_list()\n",
    "\n",
    "    with tf.variable_scope(scope or \"Linear\")as scope:\n",
    "            try:\n",
    "                matrix = tf.get_variable(\"Matrix\", [shape[1], output_size], tf.float32,\n",
    "                         tf.random_normal_initializer(stddev=stddev))\n",
    "                bias = tf.get_variable(\"bias\", [output_size], initializer=tf.constant_initializer(bias_start))\n",
    "            except ValueError:  \n",
    "                scope.reuse_variables()\n",
    "                matrix = tf.get_variable(\"Matrix\", [shape[1], output_size], tf.float32,\n",
    "                         tf.random_normal_initializer(stddev=stddev))\n",
    "                bias = tf.get_variable(\"bias\", [output_size], initializer=tf.constant_initializer(bias_start))\n",
    "        \n",
    "    if with_w:\n",
    "        return tf.matmul(input_, matrix) + bias, matrix, bias\n",
    "    else:\n",
    "        return tf.matmul(input_, matrix) + bias\n",
    "\n",
    "def conv2d(input_, output_dim,\n",
    "           filter_size=5, strides=2, stddev=0.02,\n",
    "           name=\"conv2d\"):\n",
    "    with tf.variable_scope(name) as scope:\n",
    "        try:\n",
    "            w = tf.get_variable('w', [filter_size, filter_size, input_.get_shape()[-1], output_dim],\n",
    "                        initializer=tf.truncated_normal_initializer(stddev=stddev))\n",
    "        except ValueError:\n",
    "            scope.reuse_variables()\n",
    "            w = tf.get_variable('w', [filter_size, filter_size, input_.get_shape()[-1], output_dim],\n",
    "                        initializer=tf.truncated_normal_initializer(stddev=stddev))\n",
    "                \n",
    "        conv = tf.nn.conv2d(input_, w, strides=[1, strides, strides, 1], padding='SAME')\n",
    "        biases = tf.get_variable('biases', [output_dim], initializer=tf.constant_initializer(0.0))\n",
    "        conv = tf.reshape(tf.nn.bias_add(conv, biases), conv.get_shape())\n",
    "        return conv"
   ]
  },
  {
   "cell_type": "markdown",
   "metadata": {},
   "source": [
    "### <font color='red'> Question 3</font> ###\n",
    "\n",
    "\n",
    "**_What does your final architecture look like? (Type of model, layers, sizes, connectivity, etc.) For reference on how to build a deep neural network using TensorFlow, see Deep Neural Network in TensorFlow from the classroom._**"
   ]
  },
  {
   "cell_type": "markdown",
   "metadata": {},
   "source": [
    "** <font color='blue'> Answer:</font>**\n",
    "flattened_image, num_features: Tensor(\"Reshape:0\", shape=(100, 3072), dtype=float32) 3072\n",
    "d_h_0_linear output: Tensor(\"add:0\", shape=(100, 1024), dtype=float32)\n",
    "d_h0_conv: Tensor(\"leaky_relu/add:0\", shape=(100, 16, 16, 32), dtype=float32)\n",
    "d_h1_conv: Tensor(\"leaky_relu_1/add:0\", shape=(100, 8, 8, 64), dtype=float32)\n",
    "d_h2_conv: Tensor(\"leaky_relu_2/add:0\", shape=(100, 4, 4, 128), dtype=float32)\n",
    "d_h3_conv: Tensor(\"leaky_relu_3/add:0\", shape=(100, 2, 2, 256), dtype=float32)\n",
    "flattened_layer, num_features: Tensor(\"Reshape_2:0\", shape=(100, 1024), dtype=float32) 1024\n",
    "d_h4_linear output: Tensor(\"add_1:0\", shape=(100, 43), dtype=float32)"
   ]
  },
  {
   "cell_type": "markdown",
   "metadata": {},
   "source": [
    "### Model"
   ]
  },
  {
   "cell_type": "code",
   "execution_count": 8,
   "metadata": {
    "collapsed": false
   },
   "outputs": [],
   "source": [
    "class Model():\n",
    "    def __init__(self, batch_size=100, x_dim = DEFAULT_LENGTH, y_dim = DEFAULT_WIDTH, learning_rate= 0.0001, conv_depth = 32, num_classes=43):\n",
    "        self.batch_size = batch_size\n",
    "        self.learning_rate = learning_rate\n",
    "        self.num_classes = num_classes\n",
    "        self.conv_depth = conv_depth\n",
    "\n",
    "        # tf Graph batch of image (batch_size, height, width, depth)\n",
    "        self.batch = tf.placeholder(tf.float32, [batch_size, x_dim, y_dim, DEFAULT_DEPTH], name=\"batch\")\n",
    "        self.batch_labels = tf.placeholder(tf.float32, [batch_size, self.num_classes], name=\"batch_labels\") # dataset labels for the batch\n",
    "\n",
    "        # batch normalization : deals with poor initialization helps gradient flow\n",
    "        self.d_bn1 = batch_norm(batch_size, name='d_bn1')\n",
    "        self.d_bn2 = batch_norm(batch_size, name='d_bn2')\n",
    "        self.d_bn3 = batch_norm(batch_size, name='d_bn3')\n",
    "\n",
    "        self.predict = self.discriminator(self.batch)\n",
    "        self.cost = tf.reduce_mean(-tf.reduce_sum(self.batch_labels * tf.log(self.predict), reduction_indices=[1]))\n",
    "        correct_prediction = tf.equal(tf.argmax(self.predict,1), tf.argmax(self.batch_labels,1))\n",
    "        self.accuracy = tf.reduce_mean(tf.cast(correct_prediction, tf.float32))\n",
    "\n",
    "        self.train_op = tf.train.AdamOptimizer(self.learning_rate).minimize(self.cost)\n",
    "\n",
    "        # Initializing the tensor flow variables\n",
    "        init = tf.initialize_all_variables()\n",
    "\n",
    "        # Launch the session\n",
    "        self.sess = tf.InteractiveSession()\n",
    "        self.sess.run(init)\n",
    "        self.saver = tf.train.Saver(tf.all_variables())\n",
    "        \n",
    "    def flatten_layer(self, layer):\n",
    "        # Get the shape of the input layer.\n",
    "        layer_shape = layer.get_shape()\n",
    "\n",
    "        # The shape of the input layer is assumed to be:\n",
    "        # layer_shape == [num_images, img_height, img_width, num_channels]\n",
    "\n",
    "        # The number of features is: img_height * img_width * num_channels\n",
    "        # Function from TensorFlow is used to calculate this.\n",
    "        num_features = layer_shape[1:4].num_elements()\n",
    "\n",
    "        # Reshape the layer to [num_images, num_features].\n",
    "        # Note that we just set the size of the second dimension\n",
    "        # to num_features and the size of the first dimension to -1\n",
    "        # which means the size in that dimension is calculated\n",
    "        # so the total size of the tensor is unchanged from the reshaping.\n",
    "        layer_flat = tf.reshape(layer, [-1, num_features])\n",
    "\n",
    "        return layer_flat, num_features\n",
    "        \n",
    "    def discriminator(self, images):\n",
    "        single_channel_size = DEFAULT_LENGTH*DEFAULT_WIDTH\n",
    "        #Convert Feed Image into Linear Layer to give each pixel a weight        \n",
    "        flattened_image, num_features = self.flatten_layer(images)\n",
    "        print(\"flattened_image, num_features:\",flattened_image, num_features)\n",
    "        h_0 = linear(flattened_image, single_channel_size, 'd_h_0_linear')\n",
    "        print(\"d_h_0_linear output:\", h_0)\n",
    "        \n",
    "        #4 Convolution Layers\n",
    "        h0 = lrelu(conv2d(tf.reshape(h_0, [-1, DEFAULT_LENGTH, DEFAULT_WIDTH, 1]), self.conv_depth, name='d_h0_conv'))\n",
    "        print(\"d_h0_conv:\", h0)\n",
    "        h1 = lrelu(self.d_bn1(conv2d(h0, self.conv_depth*2, name='d_h1_conv')))\n",
    "        print(\"d_h1_conv:\", h1)\n",
    "        h2 = lrelu(self.d_bn2(conv2d(h1, self.conv_depth*4, name='d_h2_conv')))\n",
    "        print(\"d_h2_conv:\", h2)\n",
    "        h3 = lrelu(self.d_bn3(conv2d(h2, self.conv_depth*8, name='d_h3_conv')))\n",
    "        print(\"d_h3_conv:\", h3)\n",
    "        \n",
    "        #Feed Output of Conv into Fully-Connected Linear Layer to map to Num_Classes\n",
    "        flattened_layer, num_features = self.flatten_layer(h3)\n",
    "        print(\"flattened_layer, num_features:\", flattened_layer, num_features)\n",
    "        h4 = linear(flattened_layer, self.num_classes, 'd_h4_linear')\n",
    "        print(\"d_h4_linear output:\", h4,\"\\n\")\n",
    "\n",
    "        #Softmax to Normalize\n",
    "        return tf.nn.softmax(h4)\n",
    "    \n",
    "    \n",
    "    def to_one_hot(self, labels):\n",
    "        # convert labels, a numpy list of labels (of size batch_size) to the one hot equivalent\n",
    "        return np.eye(self.num_classes)[labels]\n",
    "    \n",
    "    def partial_train(self, batch, labels):\n",
    "        _, cost, accuracy = self.sess.run((self.train_op, self.cost, self.accuracy),\n",
    "                              feed_dict={self.batch: batch, self.batch_labels: self.to_one_hot(labels)})\n",
    "        return cost, accuracy\n",
    "    \n",
    "    def classify_test_set(self, testing_set, show_example_errors=True,\n",
    "                            show_confusion_matrix=True):\n",
    "        test_batch_size = 100\n",
    "        \n",
    "\n",
    "        # Allocate an array for the predicted classes which\n",
    "        # will be calculated in batches and filled into this array.\n",
    "        prediction = np.zeros(shape=testing_set.num_examples, dtype=np.int)\n",
    "        testing_set.shuffle_data()\n",
    "        total_batch = int(testing_set.num_examples / test_batch_size)\n",
    "\n",
    "        # Loop over all batches\n",
    "        for i in range(total_batch):\n",
    "            batch_images, batch_labels = testing_set.next_batch(test_batch_size, with_label = True)\n",
    "            one_hot_batch_labels = self.to_one_hot(batch_labels)\n",
    "            \n",
    "            # Get the correct batch of testing examples.\n",
    "            batch_start = (i)*test_batch_size\n",
    "            batch_end = min((i+1)*test_batch_size, testing_set.num_examples)\n",
    "            \n",
    "            # Create a feed-dict with these images and labels.\n",
    "            feed_dict={self.batch: batch_images, self.batch_labels: one_hot_batch_labels}\n",
    "\n",
    "            # Calculate the predicted class using TensorFlow.\n",
    "            prediction[batch_start:batch_end] = self.sess.run(tf.argmax(self.predict, dimension=1),\n",
    "                                                            feed_dict=feed_dict)\n",
    "\n",
    "\n",
    "        # Create a boolean array whether each image is correctly classified.\n",
    "        correct_prediction = (testing_set.labels == prediction)\n",
    "        \n",
    "        #correct_prediction = np.equal(tf.argmax(prediction,1), tf.argmax(self.to_one_hot(test_set.labels), 1))\n",
    "        \n",
    "        #print('correct_prediction', correct_prediction)\n",
    "        #accuracy = self.sess.run(tf.reduce_mean(tf.cast(correct_prediction, tf.float32)), feed_dict={self.batch: testing_set.images})\n",
    "\n",
    "        # Calculate the number of correctly classified images.\n",
    "        correct_sum = np.sum(correct_prediction)\n",
    "\n",
    "        # Classification accuracy is the number of correctly classified\n",
    "        accuracy = correct_sum / testing_set.num_examples\n",
    "\n",
    "        # Print the accuracy.\n",
    "        msg = \"Accuracy on Test-Set: {0:.1%} ({1} / {2})\"\n",
    "        print(msg.format(accuracy, correct_sum, testing_set.num_examples))\n",
    "\n",
    "        # Plot some examples of mis-classifications, if desired.\n",
    "        if show_example_errors:\n",
    "            print(\"Example errors:\")\n",
    "            plot_example_errors(cls_pred=prediction, correct=correct_prediction, testing_set=testing_set)\n",
    "\n",
    "        # Plot the confusion matrix, if desired.\n",
    "        if show_confusion_matrix:\n",
    "            print(\"Confusion Matrix:\")\n",
    "            plot_confusion_matrix(cls_pred=prediction, testing_set=testing_set)\n",
    "    \n",
    "    def save_model(self, checkpoint_path, epoch):\n",
    "        \"\"\" saves the model to a file \"\"\"\n",
    "        if not os.path.exists(checkpoint_path):\n",
    "            os.mkdir(checkpoint_path)\n",
    "        self.saver.save(self.sess, checkpoint_path, global_step = epoch)\n",
    "        \n",
    "    def close_session(self):\n",
    "        self.sess.close()\n",
    "\n",
    "    def load_model(self, checkpoint_path):\n",
    "        ckpt = tf.train.get_checkpoint_state(checkpoint_path)\n",
    "        print(\"loading model: \",ckpt.model_checkpoint_path)\n",
    "        self.saver.restore(self.sess, ckpt.model_checkpoint_path)"
   ]
  },
  {
   "cell_type": "markdown",
   "metadata": {},
   "source": [
    "### Helper-function: <font color='green'> Plot Example Errors</font> ###\n",
    "Function for plotting examples of images from the test-set that have been mis-classified."
   ]
  },
  {
   "cell_type": "code",
   "execution_count": 9,
   "metadata": {
    "collapsed": false
   },
   "outputs": [],
   "source": [
    "def plot_example_errors(cls_pred, correct, testing_set):\n",
    "    # This function is called from classify_test_set() below.\n",
    "\n",
    "    # cls_pred is an array of the predicted class-number for all images in the test-set.\n",
    "    # correct is a boolean array whether the predicted class is equal to the true class for each image in the test-set.\n",
    "\n",
    "    # Negate the boolean array.\n",
    "    incorrect = (correct == False)\n",
    "    \n",
    "    # Get the images from the test-set that have been incorrectly classified.\n",
    "    images = testing_set.images[incorrect]\n",
    "    \n",
    "    # Get the predicted classes for those images.\n",
    "    cls_pred = cls_pred[incorrect]\n",
    "\n",
    "    # Get the true classes for those images.\n",
    "    cls_true_test = testing_set.labels[incorrect]\n",
    "    \n",
    "    # Plot the first 9 images.\n",
    "    testing_set.plot_images(cls_pred=cls_pred[0:9])"
   ]
  },
  {
   "cell_type": "markdown",
   "metadata": {},
   "source": [
    "### Helper-function: <font color='green'> Plot Confusion Matrix</font> ###"
   ]
  },
  {
   "cell_type": "code",
   "execution_count": 10,
   "metadata": {
    "collapsed": false
   },
   "outputs": [],
   "source": [
    "def plot_confusion_matrix(cls_pred, testing_set):\n",
    "    # This is called from classify_test_set() below.\n",
    "    \n",
    "    n_classes = testing_set.num_examples\n",
    "    # cls_pred is an array of the predicted class-number for\n",
    "    # all images in the test-set.\n",
    "\n",
    "    # Get the true classifications for the test-set.\n",
    "    cls_true_test = testing_set.labels\n",
    "    \n",
    "    # Get the confusion matrix using sklearn.\n",
    "    cm = confusion_matrix(y_true=cls_true_test,\n",
    "                          y_pred=cls_pred)\n",
    "\n",
    "    # Plot the confusion matrix as an image.\n",
    "    plt.matshow(cm)\n",
    "\n",
    "    # Make various adjustments to the plot.\n",
    "    plt.colorbar()\n",
    "    tick_marks = np.arange(n_classes, step=5)\n",
    "    plt.xticks(tick_marks, range(n_classes))\n",
    "    plt.yticks(tick_marks, range(n_classes))\n",
    "    plt.xlabel('Predicted')\n",
    "    plt.ylabel('True')\n",
    "\n",
    "    # Ensure the plot is shown correctly with multiple plots\n",
    "    # in a single Notebook cell.  \n",
    "    plt.show()"
   ]
  },
  {
   "cell_type": "markdown",
   "metadata": {},
   "source": [
    "# Session - Train/Optimize for Performance\n",
    "Run the Tensorflow Graph to train model"
   ]
  },
  {
   "cell_type": "markdown",
   "metadata": {},
   "source": [
    "### Helper-function: <font color='green'> Perform Optimization</font> ###\n",
    "There are rougly 40,000 images in the training-set. It takes a long time to calculate the gradient of the model using all these images. I therefore only use a small batch of images in each iteration of the optimizer."
   ]
  },
  {
   "cell_type": "markdown",
   "metadata": {},
   "source": [
    "Function for performing a number of optimization iterations so as to gradually improve the variables of the network layers. In each iteration, a new batch of data is selected from the training-set and then TensorFlow executes the optimizer using those training samples. The progress is printed every 100 iterations."
   ]
  },
  {
   "cell_type": "code",
   "execution_count": 11,
   "metadata": {
    "collapsed": false
   },
   "outputs": [],
   "source": [
    "#Optimization Hyper Paramters\n",
    "# Best validation accuracy seen so far.\n",
    "best_validation_accuracy = 0.0\n",
    "\n",
    "# Iteration-number for last improvement to validation accuracy.\n",
    "last_improvement = 0\n",
    "\n",
    "# Stop optimization if no improvement found in this many iterations.\n",
    "require_improvement = 1000\n",
    "\n",
    "optimization_hyperparameters = {\"best_validation_accuracy\": best_validation_accuracy,\n",
    "                                \"last_improvement\": last_improvement,\n",
    "                                \"require_improvement\": require_improvement}"
   ]
  },
  {
   "cell_type": "code",
   "execution_count": null,
   "metadata": {
    "collapsed": false
   },
   "outputs": [],
   "source": [
    "def optimize(training_set, testing_set, num_epochs=5):\n",
    "    # Start-time used for printing time-usage below.\n",
    "    start_time = time.time()\n",
    "    model = Model()\n",
    "    \n",
    "    batch_size = model.batch_size\n",
    "    num_examples = training_set.num_examples\n",
    "    training_epochs = num_epochs\n",
    "    checkpoint_path = os.path.join(DATASET_DIRECTORY, DATACACHE_DIRECTORY, 'model.ckpt')\n",
    "\n",
    "    # load previously trained model if appilcable\n",
    "    ckpt = tf.train.get_checkpoint_state(DATACACHE_DIRECTORY)\n",
    "    if ckpt:\n",
    "        model.load_model(DATACACHE_DIRECTORY)\n",
    "        \n",
    "    # Training cycle\n",
    "    for epoch in range(training_epochs):\n",
    "        #if (model.continue_optimizing(optimization_hyperparameters)):\n",
    "        avg_cost = 0.\n",
    "        avg_accuracy = 0.\n",
    "        training_set.shuffle_data()\n",
    "        total_batch = int(num_examples / batch_size)\n",
    "\n",
    "        # Loop over all batches\n",
    "        for i in range(total_batch):\n",
    "            batch_images, batch_labels = training_set.next_batch(batch_size, with_label = True)\n",
    "            #batch_images, batch_labels  = shuf_X_train[batch_start:batch_end], shuf_y_train[batch_start:batch_end]\n",
    "            cost, accuracy = model.partial_train(batch_images, batch_labels)\n",
    "\n",
    "            #assert( cost == cost and not math.isinf(cost)) # make sure it is not NaN or Inf\n",
    "            #assert( accuracy == accuracy and not math.isinf(accuracy)) # make sure it is not NaN or Inf\n",
    "\n",
    "            # Display logs per epoch step\n",
    "            if (i % 100 == 0):\n",
    "                print(\"epoch:\", '%04d' % (epoch),\n",
    "                      \"mini-batch iteration:\", '%04d' % (i), \n",
    "                      \"cost=\", \"{:.6f}\".format(cost),\n",
    "                        \"accuracy=\", \"{:.6f}\".format(accuracy))\n",
    "\n",
    "            # Compute average loss\n",
    "            avg_cost += cost / num_examples * batch_size\n",
    "            avg_accuracy += accuracy / num_examples * batch_size\n",
    "\n",
    "        # Display logs per epoch step\n",
    "        print(\"epoch:\", '%04d' % (epoch), \n",
    "              \"avg_cost=\", \"{:.6f}\".format(avg_cost), \n",
    "              \"avg_accuracy=\", \"{:.6f}\".format(avg_accuracy))\n",
    "            \n",
    "    # save model every 1 epochs\n",
    "    if epoch >= 0 and epoch % 1 == 0:\n",
    "        model.save_model(checkpoint_path, epoch)\n",
    "        print(\"model saved to {}\".format(checkpoint_path))\n",
    "    \n",
    "    #Testing Cycle\n",
    "    model.classify_test_set(testing_set=testing_set, show_confusion_matrix=False)\n",
    "    \n",
    "    # save model one last time, under zero label to denote finish.\n",
    "    model.save_model(checkpoint_path, 0)\n",
    "    \n",
    "    # Ending time.\n",
    "    end_time = time.time()\n",
    "\n",
    "    # Difference between start and end-times.\n",
    "    time_dif = end_time - start_time\n",
    "\n",
    "    # Print the time-usage.\n",
    "    print(\"Time usage: \" + str(timedelta(seconds=int(round(time_dif)))))\n",
    "    "
   ]
  },
  {
   "cell_type": "markdown",
   "metadata": {},
   "source": [
    "### <font color='red'> Question 4</font> ###\n",
    "\n",
    "**_How did you train your model? (Type of optimizer, batch size, epochs, hyperparameters, etc.)_**\n"
   ]
  },
  {
   "cell_type": "markdown",
   "metadata": {},
   "source": [
    "** <font color='blue'> Answer:</font> ** I used an AdamOptimizer (I beieve this is the SOTA) with a batch_size of 100, utilizing mini-batch. My default number of epochs is 6."
   ]
  },
  {
   "cell_type": "markdown",
   "metadata": {},
   "source": [
    "### <font color='red'> Question 5</font> ###\n",
    "\n",
    "\n",
    "**_What approach did you take in coming up with a solution to this problem?_**"
   ]
  },
  {
   "cell_type": "markdown",
   "metadata": {},
   "source": [
    "** <font color='blue'> Answer:</font> ** I spent quite a lot of time studying how Deep Neural Networks work. I had a broad understanding but I chose this project to really dig in and get a \"deep\" understanding of these architectures. Before beginning the project, I took the cs231n online course and tried to learn as much as I can about the state of the art. Upon learning that, I designed my model according to some of those best practices. One key difference is that I wanted to build a network without having to depend on Max pooling (for computing resources), so I investigated an architecture where the pictures are down sampled via the ConvNets."
   ]
  },
  {
   "cell_type": "markdown",
   "metadata": {},
   "source": [
    "### Helper-function: <font color='green'> Determine Performance</font> ###\n",
    "Function for printing the classification accuracy on the test-set.\n",
    "It takes a while to compute the classification for all the images in the test-set, that's why the results are re-used by calling the above functions directly from this function, so the classifications don't have to be recalculated by each function.\n",
    "Note that this function can use a lot of computer memory, which is why the test-set is split into smaller batches. If you have little RAM in your computer and it crashes, then you can try and lower the batch-size."
   ]
  },
  {
   "cell_type": "markdown",
   "metadata": {},
   "source": [
    "### Performance before any optimization\n",
    "The accuracy on the test-set is very low because the model variables have only been initialized and not optimized at all, so it just classifies the images randomly."
   ]
  },
  {
   "cell_type": "markdown",
   "metadata": {},
   "source": [
    "### Performance after 1 optimization iteration\n",
    "The classification accuracy does not improve much from just 1 optimization iteration, because the learning-rate for the optimizer is set very low."
   ]
  },
  {
   "cell_type": "code",
   "execution_count": null,
   "metadata": {
    "collapsed": false,
    "scrolled": true
   },
   "outputs": [
    {
     "name": "stdout",
     "output_type": "stream",
     "text": [
      "flattened_image, num_features: Tensor(\"Reshape:0\", shape=(100, 3072), dtype=float32) 3072\n",
      "d_h_0_linear output: Tensor(\"add:0\", shape=(100, 1024), dtype=float32)\n",
      "d_h0_conv: Tensor(\"leaky_relu/add:0\", shape=(100, 16, 16, 32), dtype=float32)\n",
      "d_h1_conv: Tensor(\"leaky_relu_1/add:0\", shape=(100, 8, 8, 64), dtype=float32)\n",
      "d_h2_conv: Tensor(\"leaky_relu_2/add:0\", shape=(100, 4, 4, 128), dtype=float32)\n",
      "d_h3_conv: Tensor(\"leaky_relu_3/add:0\", shape=(100, 2, 2, 256), dtype=float32)\n",
      "flattened_layer, num_features: Tensor(\"Reshape_2:0\", shape=(100, 1024), dtype=float32) 1024\n",
      "d_h4_linear output: Tensor(\"add_1:0\", shape=(100, 43), dtype=float32) \n",
      "\n",
      "epoch: 0000 mini-batch iteration: 0000 cost= 3.872415 accuracy= 0.020000\n",
      "epoch: 0000 mini-batch iteration: 0100 cost= 1.563006 accuracy= 0.600000\n"
     ]
    }
   ],
   "source": [
    "optimize(training_set=training_set, testing_set=testing_set, num_epochs=7)"
   ]
  },
  {
   "cell_type": "markdown",
   "metadata": {},
   "source": [
    "---\n",
    "\n",
    "# Step 3: Test a Model on <font color='red'> New</font> Images\n",
    "\n",
    "Take several pictures of traffic signs that you find on the web or around you (at least five), and run them through your classifier on your computer to produce example results. The classifier might not recognize some local signs but it could prove interesting nonetheless.\n",
    "\n",
    "You may find `signnames.csv` useful as it contains mappings from the class id (integer) to the actual sign name."
   ]
  },
  {
   "cell_type": "markdown",
   "metadata": {},
   "source": [
    "### Implementation\n",
    "\n",
    "Use the code cell (or multiple code cells, if necessary) to implement the first step of your project. Once you have completed your implementation and are satisfied with the results, be sure to thoroughly answer the questions that follow."
   ]
  },
  {
   "cell_type": "code",
   "execution_count": null,
   "metadata": {
    "collapsed": false
   },
   "outputs": [],
   "source": [
    "### Load the images and plot them here.\n",
    "### Feel free to use as many code cells as needed."
   ]
  },
  {
   "cell_type": "markdown",
   "metadata": {},
   "source": [
    "### <font color='red'> Question 6</font> ###\n",
    "\n",
    "_Choose five candidate images of traffic signs and provide them in the report. Are there any particular qualities of the image(s) that might make classification difficult? It would be helpful to plot the images in the notebook._\n",
    "\n"
   ]
  },
  {
   "cell_type": "markdown",
   "metadata": {},
   "source": [
    "** <font color='blue'> Answer:</font> **"
   ]
  },
  {
   "cell_type": "code",
   "execution_count": null,
   "metadata": {
    "collapsed": false
   },
   "outputs": [],
   "source": [
    "### Run the predictions here.\n",
    "### Feel free to use as many code cells as needed."
   ]
  },
  {
   "cell_type": "markdown",
   "metadata": {},
   "source": [
    "### <font color='red'> Question 7</font> ###\n",
    "\n",
    "_Is your model able to perform equally well on captured pictures or a live camera stream when compared to testing on the dataset?_\n"
   ]
  },
  {
   "cell_type": "markdown",
   "metadata": {},
   "source": [
    "** <font color='blue'> Answer:</font> ** I believe so, I tested my network on two Dataset (preprocessed vs. source images). To accomplish this, my architecture downloads, extracts, and preprocesses all the data from either the Udacity provided link or directly from the GTSRB website. Before loading it into my nueral network model. It is capable of resizing images and with a few tweaks I could implement cropping as well. If the video was split into a Dataset of frames for example, I believe it will work fine with video! "
   ]
  },
  {
   "cell_type": "code",
   "execution_count": null,
   "metadata": {
    "collapsed": false
   },
   "outputs": [],
   "source": [
    "### Visualize the softmax probabilities here.\n",
    "### Feel free to use as many code cells as needed."
   ]
  },
  {
   "cell_type": "markdown",
   "metadata": {},
   "source": [
    "### <font color='red'> Question 8</font> ###\n",
    "\n",
    "*Use the model's softmax probabilities to visualize the **certainty** of its predictions, [`tf.nn.top_k`](https://www.tensorflow.org/versions/r0.11/api_docs/python/nn.html#top_k) could prove helpful here. Which predictions is the model certain of? Uncertain? If the model was incorrect in its initial prediction, does the correct prediction appear in the top k? (k should be 5 at most)*\n"
   ]
  },
  {
   "cell_type": "markdown",
   "metadata": {},
   "source": [
    "** <font color='blue'> Answer:</font> **"
   ]
  },
  {
   "cell_type": "markdown",
   "metadata": {},
   "source": [
    "### <font color='red'> Question 9</font> ###\n",
    "\n",
    "_If necessary, provide documentation for how an interface was built for your model to load and classify newly-acquired images._\n"
   ]
  },
  {
   "cell_type": "markdown",
   "metadata": {},
   "source": [
    "** <font color='blue'> Answer:</font> **\n",
    "- Used this tutorial as a skeleton starting point: https://github.com/Hvass-Labs/TensorFlow-Tutorials\n",
    "    - I changed the architecture quite substantially, for example, I use more ConvNets and I use leaky relu. \n",
    "- Used this online lecture class for theory: https://cs231n.github.io/\n",
    "    - I learned about the state of the art and modeled my architecture on many of the principles."
   ]
  },
  {
   "cell_type": "markdown",
   "metadata": {},
   "source": [
    "> **Note**: Once you have completed all of the code implementations and successfully answered each question above, you may finalize your work by exporting the iPython Notebook as an HTML document. You can do this by using the menu above and navigating to  \\n\",\n",
    "    \"**File -> Download as -> HTML (.html)**. Include the finished document along with this notebook as your submission."
   ]
  }
 ],
 "metadata": {
  "anaconda-cloud": {},
  "kernelspec": {
   "display_name": "Python 3",
   "language": "python",
   "name": "python3"
  },
  "language_info": {
   "codemirror_mode": {
    "name": "ipython",
    "version": 3
   },
   "file_extension": ".py",
   "mimetype": "text/x-python",
   "name": "python",
   "nbconvert_exporter": "python",
   "pygments_lexer": "ipython3",
   "version": "3.5.2"
  }
 },
 "nbformat": 4,
 "nbformat_minor": 1
}
